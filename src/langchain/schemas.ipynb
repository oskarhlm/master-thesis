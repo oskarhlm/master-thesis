{
 "cells": [
  {
   "cell_type": "code",
   "execution_count": 1,
   "metadata": {},
   "outputs": [
    {
     "data": {
      "text/plain": [
       "{'type': 'function',\n",
       " 'function': {'name': 'distance',\n",
       "  'description': 'Use this tool to compute distance between two points available in lat,lng format.',\n",
       "  'parameters': {'description': 'Input for GeopyDistanceTool.',\n",
       "   'properties': {'point_1': {'description': 'lat,lng of a place',\n",
       "     'items': {'type': 'number'},\n",
       "     'title': 'Point 1',\n",
       "     'type': 'array'},\n",
       "    'point_2': {'description': 'lat,lng of a place',\n",
       "     'items': {'type': 'number'},\n",
       "     'title': 'Point 2',\n",
       "     'type': 'array'}},\n",
       "   'required': ['point_1', 'point_2'],\n",
       "   'title': 'GeopyDistanceInput',\n",
       "   'type': 'object'}}}"
      ]
     },
     "execution_count": 1,
     "metadata": {},
     "output_type": "execute_result"
    }
   ],
   "source": [
    "from lib.tools.geopy.distance import GeopyDistanceTool\n",
    "from lib.tools.geopy.geocode import GeopyGeocodeTool\n",
    "from langchain_experimental.tools import PythonREPLTool\n",
    "from langchain_community.tools.convert_to_openai import format_tool_to_openai_tool\n",
    "\n",
    "format_tool_to_openai_tool(GeopyDistanceTool())"
   ]
  }
 ],
 "metadata": {
  "kernelspec": {
   "display_name": "langchain-env",
   "language": "python",
   "name": "python3"
  },
  "language_info": {
   "codemirror_mode": {
    "name": "ipython",
    "version": 3
   },
   "file_extension": ".py",
   "mimetype": "text/x-python",
   "name": "python",
   "nbconvert_exporter": "python",
   "pygments_lexer": "ipython3",
   "version": "3.11.6"
  }
 },
 "nbformat": 4,
 "nbformat_minor": 2
}
