{
 "cells": [
  {
   "cell_type": "code",
   "execution_count": 1,
   "metadata": {},
   "outputs": [
    {
     "data": {
      "text/plain": [
       "Spec('')"
      ]
     },
     "execution_count": 1,
     "metadata": {},
     "output_type": "execute_result"
    }
   ],
   "source": [
    "from openapi_core import Spec\n",
    "import requests\n",
    "\n",
    "# openapi_spec_url = \"https://alenos-tester001.azurewebsites.net/openapi?f=json\"\n",
    "openapi_spec_url = \"https://ws.geonorge.no/adresser/v1/openapi.json\"\n",
    "\n",
    "def get_json_api_endpoint(url):\n",
    "    response = requests.get(url)\n",
    "    response.raise_for_status()  \n",
    "    return response.json()\n",
    "\n",
    "openapi = Spec.from_dict(get_json_api_endpoint(openapi_spec_url))\n",
    "openapi"
   ]
  }
 ],
 "metadata": {
  "kernelspec": {
   "display_name": "langchain-env",
   "language": "python",
   "name": "python3"
  },
  "language_info": {
   "codemirror_mode": {
    "name": "ipython",
    "version": 3
   },
   "file_extension": ".py",
   "mimetype": "text/x-python",
   "name": "python",
   "nbconvert_exporter": "python",
   "pygments_lexer": "ipython3",
   "version": "3.11.6"
  }
 },
 "nbformat": 4,
 "nbformat_minor": 2
}
