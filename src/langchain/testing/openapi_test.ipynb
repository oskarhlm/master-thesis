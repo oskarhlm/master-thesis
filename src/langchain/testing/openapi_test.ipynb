{
 "cells": [
  {
   "cell_type": "code",
   "execution_count": 1,
   "metadata": {},
   "outputs": [
    {
     "ename": "OpenAPIValidationError",
     "evalue": "{'explode': False, 'in': 'query', 'name': 'ogc_fid', 'required': False, 'schema': {'type': 'INTEGER'}, 'style': 'form'} is not valid under any of the given schemas\n\nFailed validating 'oneOf' in schema['properties']['paths']['patternProperties']['^\\\\/']['patternProperties']['^(get|put|post|delete|options|head|patch|trace)$']['properties']['parameters']['items']:\n    {'oneOf': [{'$ref': '#/definitions/Parameter'},\n               {'$ref': '#/definitions/Reference'}]}\n\nOn instance['paths']['/collections/countries/items']['get']['parameters'][9]:\n    {'explode': False,\n     'in': 'query',\n     'name': 'ogc_fid',\n     'required': False,\n     'schema': {'type': 'INTEGER'},\n     'style': 'form'}",
     "output_type": "error",
     "traceback": [
      "\u001b[0;31m---------------------------------------------------------------------------\u001b[0m",
      "\u001b[0;31mOpenAPIValidationError\u001b[0m                    Traceback (most recent call last)",
      "Cell \u001b[0;32mIn[1], line 11\u001b[0m\n\u001b[1;32m      8\u001b[0m     response\u001b[38;5;241m.\u001b[39mraise_for_status()  \n\u001b[1;32m      9\u001b[0m     \u001b[38;5;28;01mreturn\u001b[39;00m response\u001b[38;5;241m.\u001b[39mjson()\n\u001b[0;32m---> 11\u001b[0m openapi \u001b[38;5;241m=\u001b[39m \u001b[43mSpec\u001b[49m\u001b[38;5;241;43m.\u001b[39;49m\u001b[43mfrom_dict\u001b[49m\u001b[43m(\u001b[49m\u001b[43mget_json_api_endpoint\u001b[49m\u001b[43m(\u001b[49m\u001b[43mopenapi_spec_url\u001b[49m\u001b[43m)\u001b[49m\u001b[43m)\u001b[49m\n\u001b[1;32m     12\u001b[0m openapi\n",
      "File \u001b[0;32m/home/dev/master-thesis/src/langchain/langchain-env/lib/python3.11/site-packages/openapi_core/spec/paths.py:38\u001b[0m, in \u001b[0;36mSpec.from_dict\u001b[0;34m(cls, data, *args, **kwargs)\u001b[0m\n\u001b[1;32m     36\u001b[0m     validate(data, base_uri\u001b[38;5;241m=\u001b[39mbase_uri, \u001b[38;5;28mcls\u001b[39m\u001b[38;5;241m=\u001b[39mspec_validator_cls)\n\u001b[1;32m     37\u001b[0m \u001b[38;5;28;01melif\u001b[39;00m validator \u001b[38;5;129;01mis\u001b[39;00m _UNSET:\n\u001b[0;32m---> 38\u001b[0m     \u001b[43mvalidate\u001b[49m\u001b[43m(\u001b[49m\u001b[43mdata\u001b[49m\u001b[43m,\u001b[49m\u001b[43m \u001b[49m\u001b[43mbase_uri\u001b[49m\u001b[38;5;241;43m=\u001b[39;49m\u001b[43mbase_uri\u001b[49m\u001b[43m)\u001b[49m\n\u001b[1;32m     39\u001b[0m \u001b[38;5;28;01melif\u001b[39;00m validator \u001b[38;5;129;01mis\u001b[39;00m \u001b[38;5;129;01mnot\u001b[39;00m \u001b[38;5;28;01mNone\u001b[39;00m:\n\u001b[1;32m     40\u001b[0m     validator\u001b[38;5;241m.\u001b[39mvalidate(data, base_uri\u001b[38;5;241m=\u001b[39mbase_uri, spec_url\u001b[38;5;241m=\u001b[39mspec_url)\n",
      "File \u001b[0;32m/home/dev/master-thesis/src/langchain/langchain-env/lib/python3.11/site-packages/openapi_spec_validator/shortcuts.py:48\u001b[0m, in \u001b[0;36mvalidate\u001b[0;34m(spec, base_uri, cls)\u001b[0m\n\u001b[1;32m     46\u001b[0m sp \u001b[38;5;241m=\u001b[39m SchemaPath\u001b[38;5;241m.\u001b[39mfrom_dict(spec, base_uri\u001b[38;5;241m=\u001b[39mbase_uri)\n\u001b[1;32m     47\u001b[0m v \u001b[38;5;241m=\u001b[39m \u001b[38;5;28mcls\u001b[39m(sp)\n\u001b[0;32m---> 48\u001b[0m \u001b[38;5;28;01mreturn\u001b[39;00m \u001b[43mv\u001b[49m\u001b[38;5;241;43m.\u001b[39;49m\u001b[43mvalidate\u001b[49m\u001b[43m(\u001b[49m\u001b[43m)\u001b[49m\n",
      "File \u001b[0;32m/home/dev/master-thesis/src/langchain/langchain-env/lib/python3.11/site-packages/openapi_spec_validator/validation/validators.py:71\u001b[0m, in \u001b[0;36mSpecValidator.validate\u001b[0;34m(self)\u001b[0m\n\u001b[1;32m     69\u001b[0m \u001b[38;5;28;01mdef\u001b[39;00m \u001b[38;5;21mvalidate\u001b[39m(\u001b[38;5;28mself\u001b[39m) \u001b[38;5;241m-\u001b[39m\u001b[38;5;241m>\u001b[39m \u001b[38;5;28;01mNone\u001b[39;00m:\n\u001b[1;32m     70\u001b[0m     \u001b[38;5;28;01mfor\u001b[39;00m err \u001b[38;5;129;01min\u001b[39;00m \u001b[38;5;28mself\u001b[39m\u001b[38;5;241m.\u001b[39miter_errors():\n\u001b[0;32m---> 71\u001b[0m         \u001b[38;5;28;01mraise\u001b[39;00m err\n",
      "\u001b[0;31mOpenAPIValidationError\u001b[0m: {'explode': False, 'in': 'query', 'name': 'ogc_fid', 'required': False, 'schema': {'type': 'INTEGER'}, 'style': 'form'} is not valid under any of the given schemas\n\nFailed validating 'oneOf' in schema['properties']['paths']['patternProperties']['^\\\\/']['patternProperties']['^(get|put|post|delete|options|head|patch|trace)$']['properties']['parameters']['items']:\n    {'oneOf': [{'$ref': '#/definitions/Parameter'},\n               {'$ref': '#/definitions/Reference'}]}\n\nOn instance['paths']['/collections/countries/items']['get']['parameters'][9]:\n    {'explode': False,\n     'in': 'query',\n     'name': 'ogc_fid',\n     'required': False,\n     'schema': {'type': 'INTEGER'},\n     'style': 'form'}"
     ]
    }
   ],
   "source": [
    "from openapi_core import Spec\n",
    "import requests\n",
    "\n",
    "openapi_spec_url = \"https://alenos-tester001.azurewebsites.net/openapi?f=json\"\n",
    "\n",
    "def get_json_api_endpoint(url):\n",
    "    response = requests.get(url)\n",
    "    response.raise_for_status()  \n",
    "    return response.json()\n",
    "\n",
    "openapi = Spec.from_dict(get_json_api_endpoint(openapi_spec_url))\n",
    "openapi"
   ]
  }
 ],
 "metadata": {
  "kernelspec": {
   "display_name": "langchain-env",
   "language": "python",
   "name": "python3"
  },
  "language_info": {
   "codemirror_mode": {
    "name": "ipython",
    "version": 3
   },
   "file_extension": ".py",
   "mimetype": "text/x-python",
   "name": "python",
   "nbconvert_exporter": "python",
   "pygments_lexer": "ipython3",
   "version": "3.11.6"
  }
 },
 "nbformat": 4,
 "nbformat_minor": 2
}
