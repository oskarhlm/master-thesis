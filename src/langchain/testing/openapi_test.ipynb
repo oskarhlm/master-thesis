{
 "cells": [
  {
   "cell_type": "code",
   "execution_count": 49,
   "metadata": {},
   "outputs": [],
   "source": [
    "from langchain_community.agent_toolkits.openapi import planner\n",
    "from langchain_openai import OpenAI\n",
    "from langchain.requests import RequestsWrapper\n",
    "from dotenv import load_dotenv\n",
    "from tools.api import OGCAPIFeaturesDescriptionTool\n",
    "from langchain import hub\n",
    "from langchain.agents import AgentExecutor, create_openai_tools_agent\n",
    "from langchain_community.tools.tavily_search import TavilySearchResults\n",
    "from langchain_openai import ChatOpenAI\n",
    "\n",
    "load_dotenv('../../.env')\n",
    "\n",
    "tools = [OGCAPIFeaturesDescriptionTool()]\n",
    "\n",
    "BASE_URL = 'http://localhost:9000/api'\n",
    "\n",
    "llm = OpenAI(model_name=\"gpt-4\", temperature=0.0)"
   ]
  },
  {
   "cell_type": "code",
   "execution_count": 50,
   "metadata": {},
   "outputs": [],
   "source": [
    "# Get the prompt to use - you can modify this!\n",
    "prompt = hub.pull(\"hwchase17/openai-tools-agent\")\n",
    "\n",
    "# Choose the LLM that will drive the agent\n",
    "# Only certain models support this\n",
    "llm = ChatOpenAI(model=\"gpt-3.5-turbo-1106\", temperature=0)\n",
    "\n",
    "# Construct the OpenAI Tools agent\n",
    "agent = create_openai_tools_agent(llm, tools, prompt)\n",
    "\n",
    "# Create an agent executor by passing in the agent and tools\n",
    "agent_executor = AgentExecutor(agent=agent, tools=tools, verbose=True)"
   ]
  },
  {
   "cell_type": "code",
   "execution_count": 51,
   "metadata": {},
   "outputs": [
    {
     "name": "stdout",
     "output_type": "stream",
     "text": [
      "\n",
      "\n",
      "\u001b[1m> Entering new AgentExecutor chain...\u001b[0m\n",
      "\u001b[32;1m\u001b[1;3m\n",
      "Invoking: `ogc_api_features_schema_description` with `{'url': 'http://localhost:9000/api'}`\n",
      "\n",
      "\n",
      "\u001b[0m\u001b[36;1m\u001b[1;3m[{\"/collections\": {\"description\": \"Provides details about feature collections served\", \"get\": {\"operationId\": \"getCollectionsMetaData\", \"responses\": {\"200\": {\"content\": {\"application/json\": {\"schema\": {\"properties\": {\"collections\": {\"items\": {\"properties\": {\"crs\": {\"items\": {\"type\": \"string\"}, \"type\": \"array\"}, \"description\": {\"type\": \"string\"}, \"extent\": {\"properties\": {\"spatial\": {\"properties\": {\"bbox\": {\"items\": {\"maximum\": 180, \"minimum\": -180, \"type\": \"number\"}, \"maxItems\": 4, \"minItems\": 4, \"type\": \"array\"}, \"crs\": {\"type\": \"string\"}}, \"required\": [\"bbox\"], \"type\": \"object\"}}, \"required\": [\"extent\"], \"type\": \"object\"}, \"geometrytype\": {\"type\": \"string\"}, \"id\": {\"type\": \"string\"}, \"links\": {\"items\": {\"description\": \"Describes links to other resources\", \"properties\": {\"href\": {\"description\": \"URL for the link\", \"type\": \"string\"}, \"hreflang\": {\"type\": \"string\"}, \"rel\": {\"type\": \"string\"}, \"title\": {\"type\": \"string\"}, \"type\": {\"type\": \"string\"}}, \"required\": [\"href\"], \"type\": \"object\"}, \"type\": \"array\"}, \"properties\": {\"items\": {\"description\": \"A data property of a collection or function result\", \"properties\": {\"description\": {\"type\": \"string\"}, \"name\": {\"type\": \"string\"}, \"type\": {\"type\": \"string\"}}, \"required\": [\"name\", \"type\"], \"type\": \"object\"}, \"type\": \"array\"}, \"title\": {\"type\": \"string\"}}, \"required\": [\"id\", \"links\"], \"type\": \"object\"}, \"type\": \"array\"}, \"links\": {\"items\": {\"description\": \"Describes links to other resources\", \"properties\": {\"href\": {\"description\": \"URL for the link\", \"type\": \"string\"}, \"hreflang\": {\"type\": \"string\"}, \"rel\": {\"type\": \"string\"}, \"title\": {\"type\": \"string\"}, \"type\": {\"type\": \"string\"}}, \"required\": [\"href\"], \"type\": \"object\"}, \"type\": \"array\"}}, \"required\": [\"links\", \"collections\"], \"type\": \"object\"}}}, \"description\": \"Results for details about the specified feature collection\"}}}, \"summary\": \"Feature collections metadata\"}}, {\"/collections/{collectionId}\": {\"description\": \"Provides details about the specified feature collection\", \"get\": {\"operationId\": \"getCollectionMetaData\", \"parameters\": [{\"description\": \"ID of collection.\", \"in\": \"path\", \"name\": \"collectionId\", \"required\": true, \"schema\": {\"type\": \"string\"}}], \"responses\": {\"200\": {\"content\": {\"application/json\": {\"schema\": {\"properties\": {\"crs\": {\"items\": {\"type\": \"string\"}, \"type\": \"array\"}, \"description\": {\"type\": \"string\"}, \"extent\": {\"properties\": {\"spatial\": {\"properties\": {\"bbox\": {\"items\": {\"maximum\": 180, \"minimum\": -180, \"type\": \"number\"}, \"maxItems\": 4, \"minItems\": 4, \"type\": \"array\"}, \"crs\": {\"type\": \"string\"}}, \"required\": [\"bbox\"], \"type\": \"object\"}}, \"required\": [\"extent\"], \"type\": \"object\"}, \"geometrytype\": {\"type\": \"string\"}, \"id\": {\"type\": \"string\"}, \"links\": {\"items\": {\"description\": \"Describes links to other resources\", \"properties\": {\"href\": {\"description\": \"URL for the link\", \"type\": \"string\"}, \"hreflang\": {\"type\": \"string\"}, \"rel\": {\"type\": \"string\"}, \"title\": {\"type\": \"string\"}, \"type\": {\"type\": \"string\"}}, \"required\": [\"href\"], \"type\": \"object\"}, \"type\": \"array\"}, \"properties\": {\"items\": {\"description\": \"A data property of a collection or function result\", \"properties\": {\"description\": {\"type\": \"string\"}, \"name\": {\"type\": \"string\"}, \"type\": {\"type\": \"string\"}}, \"required\": [\"name\", \"type\"], \"type\": \"object\"}, \"type\": \"array\"}, \"title\": {\"type\": \"string\"}}, \"required\": [\"id\", \"links\"], \"type\": \"object\"}}}, \"description\": \"Results for details about the specified feature collection\"}}}, \"summary\": \"Feature collection metadata\"}}, {\"/collections/{collectionId}/items\": {\"description\": \"Provides paged access to data for all features in specified collection\", \"get\": {\"operationId\": \"getCollectionFeatures\", \"parameters\": [{\"description\": \"ID of collection.\", \"in\": \"path\", \"name\": \"collectionId\", \"required\": true, \"schema\": {\"type\": \"string\"}}, {\"description\": \"Bounding box to restrict results to given extent (as minLon,minLat,maxLon,maxLat).\", \"example\": \"-120,30,-100,49\", \"explode\": false, \"in\": \"query\", \"name\": \"bbox\", \"schema\": {\"items\": {\"maximum\": 180, \"minimum\": -180, \"type\": \"number\"}, \"maxItems\": 4, \"minItems\": 4, \"type\": \"array\"}}, {\"description\": \"SRID for coordinate reference system of bbox parameter.\", \"in\": \"query\", \"name\": \"bbox-crs\", \"schema\": {\"default\": 4326, \"minimum\": 1, \"type\": \"integer\"}}, {\"description\": \"CQL filter to apply.\", \"in\": \"query\", \"name\": \"filter\", \"schema\": {\"type\": \"string\"}}, {\"description\": \"SRID for filter geometry literals.\", \"in\": \"query\", \"name\": \"filter-crs\", \"schema\": {\"default\": 4326, \"minimum\": 1, \"type\": \"integer\"}}, {\"description\": \"Geometry transformation function pipeline to apply\", \"example\": \"Centroid|Buffer,1\", \"explode\": false, \"in\": \"query\", \"name\": \"transform\", \"schema\": {\"items\": {\"type\": \"string\"}, \"type\": \"array\"}, \"style\": \"pipeDelimited\"}, {\"description\": \"List of properties to return in response objects\", \"example\": \"a,b,c\", \"explode\": false, \"in\": \"query\", \"name\": \"properties\", \"schema\": {\"items\": {\"type\": \"string\"}, \"type\": \"array\"}}, {\"description\": \"Column to sort by.\", \"in\": \"query\", \"name\": \"sortby\", \"schema\": {\"type\": \"string\"}}, {\"description\": \"SRID for coordinate reference system of output features.\", \"in\": \"query\", \"name\": \"crs\", \"schema\": {\"default\": 4326, \"minimum\": 1, \"type\": \"integer\"}}, {\"description\": \"Maximum number of results to return.\", \"in\": \"query\", \"name\": \"limit\", \"schema\": {\"default\": 10, \"maximum\": 1000, \"minimum\": 0, \"type\": \"integer\"}}, {\"description\": \"Offset of start of returned results.\", \"in\": \"query\", \"name\": \"offset\", \"schema\": {\"default\": 0, \"minimum\": 0, \"type\": \"integer\"}}], \"responses\": {\"200\": {\"description\": \"GeoJSON Featuree Collection document containing data for features\"}}}, \"summary\": \"Feature data for collection\"}}, {\"/collections/{collectionId}/items/{featureId}\": {\"description\": \"Provides access to a single feature identitfied by {featureId} from the specified collection\", \"get\": {\"operationId\": \"getCollectionFeature\", \"parameters\": [{\"description\": \"ID of collection.\", \"in\": \"path\", \"name\": \"collectionId\", \"required\": true, \"schema\": {\"type\": \"string\"}}, {\"description\": \"Id of feature in collection to retrieve data for.\", \"in\": \"path\", \"name\": \"featureId\", \"required\": true, \"schema\": {\"type\": \"string\"}}, {\"description\": \"List of properties to return in response objects\", \"example\": \"a,b,c\", \"explode\": false, \"in\": \"query\", \"name\": \"properties\", \"schema\": {\"items\": {\"type\": \"string\"}, \"type\": \"array\"}}, {\"description\": \"Geometry transformation function pipeline to apply\", \"example\": \"Centroid|Buffer,1\", \"explode\": false, \"in\": \"query\", \"name\": \"transform\", \"schema\": {\"items\": {\"type\": \"string\"}, \"type\": \"array\"}, \"style\": \"pipeDelimited\"}, {\"description\": \"SRID for coordinate reference system of output features.\", \"in\": \"query\", \"name\": \"crs\", \"schema\": {\"default\": 4326, \"minimum\": 1, \"type\": \"integer\"}}], \"responses\": {\"200\": {\"description\": \"GeoJSON Feature document containing feature data\"}}}, \"summary\": \"Single feature data from collection\"}}]\u001b[0m\u001b[32;1m\u001b[1;3mThe available endpoints at http://localhost:9000/api are as follows:\n",
      "\n",
      "1. /collections\n",
      "   - Description: Provides details about feature collections served\n",
      "   - Method: GET\n",
      "   - Summary: Feature collections metadata\n",
      "\n",
      "2. /collections/{collectionId}\n",
      "   - Description: Provides details about the specified feature collection\n",
      "   - Method: GET\n",
      "   - Summary: Feature collection metadata\n",
      "\n",
      "3. /collections/{collectionId}/items\n",
      "   - Description: Provides paged access to data for all features in specified collection\n",
      "   - Method: GET\n",
      "   - Summary: Feature data for collection\n",
      "\n",
      "4. /collections/{collectionId}/items/{featureId}\n",
      "   - Description: Provides access to a single feature identified by {featureId} from the specified collection\n",
      "   - Method: GET\n",
      "   - Summary: Single feature data from collection\n",
      "\n",
      "These endpoints provide access to various features and collections within the API.\u001b[0m\n",
      "\n",
      "\u001b[1m> Finished chain.\u001b[0m\n"
     ]
    },
    {
     "data": {
      "text/plain": [
       "{'input': 'What endpoints are available at http://localhost:9000/api?',\n",
       " 'output': 'The available endpoints at http://localhost:9000/api are as follows:\\n\\n1. /collections\\n   - Description: Provides details about feature collections served\\n   - Method: GET\\n   - Summary: Feature collections metadata\\n\\n2. /collections/{collectionId}\\n   - Description: Provides details about the specified feature collection\\n   - Method: GET\\n   - Summary: Feature collection metadata\\n\\n3. /collections/{collectionId}/items\\n   - Description: Provides paged access to data for all features in specified collection\\n   - Method: GET\\n   - Summary: Feature data for collection\\n\\n4. /collections/{collectionId}/items/{featureId}\\n   - Description: Provides access to a single feature identified by {featureId} from the specified collection\\n   - Method: GET\\n   - Summary: Single feature data from collection\\n\\nThese endpoints provide access to various features and collections within the API.'}"
      ]
     },
     "execution_count": 51,
     "metadata": {},
     "output_type": "execute_result"
    }
   ],
   "source": [
    "agent_executor.invoke({\"input\": f\"What endpoints are available at {BASE_URL}?\"})"
   ]
  }
 ],
 "metadata": {
  "kernelspec": {
   "display_name": "langchain-env",
   "language": "python",
   "name": "python3"
  },
  "language_info": {
   "codemirror_mode": {
    "name": "ipython",
    "version": 3
   },
   "file_extension": ".py",
   "mimetype": "text/x-python",
   "name": "python",
   "nbconvert_exporter": "python",
   "pygments_lexer": "ipython3",
   "version": "3.11.6"
  }
 },
 "nbformat": 4,
 "nbformat_minor": 2
}
