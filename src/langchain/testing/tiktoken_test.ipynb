{
 "cells": [
  {
   "cell_type": "code",
   "execution_count": 2,
   "metadata": {},
   "outputs": [
    {
     "data": {
      "text/plain": [
       "True"
      ]
     },
     "execution_count": 2,
     "metadata": {},
     "output_type": "execute_result"
    }
   ],
   "source": [
    "import tiktoken \n",
    "from dotenv import load_dotenv\n",
    "import os\n",
    "\n",
    "load_dotenv('../../.env')"
   ]
  },
  {
   "cell_type": "code",
   "execution_count": 3,
   "metadata": {},
   "outputs": [
    {
     "data": {
      "text/plain": [
       "5"
      ]
     },
     "execution_count": 3,
     "metadata": {},
     "output_type": "execute_result"
    }
   ],
   "source": [
    "model_name = os.getenv('GPT3_MODEL_NAME')\n",
    "\n",
    "enc = tiktoken.encoding_for_model(model_name)\n",
    "len(enc.encode('hei på deg, ja'))"
   ]
  },
  {
   "cell_type": "code",
   "execution_count": 8,
   "metadata": {},
   "outputs": [],
   "source": [
    "from langchain.llms import OpenAI\n",
    "\n",
    "# Create an instance of the OpenAI class\n",
    "openai = OpenAI(model_name=\"text-davinci-003\")\n",
    "\n",
    "# Get the maximum context size for the model\n",
    "max_context_size = openai.modelname_to_contextsize(openai.model_name)\n",
    "\n",
    "# Set the max_tokens attribute to a value within the model's maximum context length\n",
    "# or any value less than max_context_size\n",
    "openai.max_tokens = max_context_size - 1\n",
    "\n",
    "# Alternatively, you can use the max_tokens_for_prompt method\n",
    "prompt = \"Tell me a joke.\"\n",
    "openai.max_tokens = openai.max_tokens_for_prompt(prompt)"
   ]
  },
  {
   "cell_type": "code",
   "execution_count": 9,
   "metadata": {},
   "outputs": [
    {
     "data": {
      "text/plain": [
       "4097"
      ]
     },
     "execution_count": 9,
     "metadata": {},
     "output_type": "execute_result"
    }
   ],
   "source": [
    "max_context_size"
   ]
  }
 ],
 "metadata": {
  "kernelspec": {
   "display_name": "langchain-env",
   "language": "python",
   "name": "python3"
  },
  "language_info": {
   "codemirror_mode": {
    "name": "ipython",
    "version": 3
   },
   "file_extension": ".py",
   "mimetype": "text/x-python",
   "name": "python",
   "nbconvert_exporter": "python",
   "pygments_lexer": "ipython3",
   "version": "3.11.6"
  }
 },
 "nbformat": 4,
 "nbformat_minor": 2
}
