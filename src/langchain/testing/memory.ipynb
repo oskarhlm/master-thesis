{
 "cells": [
  {
   "cell_type": "code",
   "execution_count": 109,
   "metadata": {},
   "outputs": [
    {
     "data": {
      "text/plain": [
       "True"
      ]
     },
     "execution_count": 109,
     "metadata": {},
     "output_type": "execute_result"
    }
   ],
   "source": [
    "from langchain.agents import AgentExecutor, ZeroShotAgent, create_openai_tools_agent\n",
    "from langchain.chains import LLMChain\n",
    "from langchain.memory import ConversationBufferMemory, ConversationBufferWindowMemory\n",
    "from langchain_community.utilities import GoogleSearchAPIWrapper\n",
    "from langchain_openai import OpenAI\n",
    "from dotenv import load_dotenv\n",
    "from langchain_openai import ChatOpenAI\n",
    "from langchain import hub\n",
    "from langchain_core.prompts import ChatPromptTemplate, MessagesPlaceholder, HumanMessagePromptTemplate\n",
    "from langchain_core.messages import SystemMessage\n",
    "\n",
    "\n",
    "\n",
    "load_dotenv('../../.env')"
   ]
  },
  {
   "cell_type": "code",
   "execution_count": 110,
   "metadata": {},
   "outputs": [],
   "source": [
    "from langchain_experimental.tools import PythonREPLTool\n",
    "\n",
    "tools = [PythonREPLTool()]"
   ]
  },
  {
   "cell_type": "code",
   "execution_count": 111,
   "metadata": {},
   "outputs": [],
   "source": [
    "# prompt = hub.pull(\"hwchase17/openai-tools-agent\")\n",
    "prompt = ChatPromptTemplate.from_messages(\n",
    "    [\n",
    "        SystemMessage(content='You are a helpful GIS agent/consultant.'),\n",
    "        MessagesPlaceholder(variable_name='chat_history'),\n",
    "        HumanMessagePromptTemplate.from_template('{input}'),\n",
    "        MessagesPlaceholder(variable_name='agent_scratchpad')\n",
    "    ]\n",
    ")\n",
    "memory = ConversationBufferWindowMemory(k=6,\n",
    "    memory_key=\"chat_history\", return_messages=True, input_key='input', output_key='output')"
   ]
  },
  {
   "cell_type": "code",
   "execution_count": 112,
   "metadata": {},
   "outputs": [
    {
     "data": {
      "text/plain": [
       "ChatPromptTemplate(input_variables=['agent_scratchpad', 'chat_history', 'input'], input_types={'chat_history': typing.List[typing.Union[langchain_core.messages.ai.AIMessage, langchain_core.messages.human.HumanMessage, langchain_core.messages.chat.ChatMessage, langchain_core.messages.system.SystemMessage, langchain_core.messages.function.FunctionMessage, langchain_core.messages.tool.ToolMessage]], 'agent_scratchpad': typing.List[typing.Union[langchain_core.messages.ai.AIMessage, langchain_core.messages.human.HumanMessage, langchain_core.messages.chat.ChatMessage, langchain_core.messages.system.SystemMessage, langchain_core.messages.function.FunctionMessage, langchain_core.messages.tool.ToolMessage]]}, messages=[SystemMessage(content='You are a helpful GIS agent/consultant.'), MessagesPlaceholder(variable_name='chat_history'), HumanMessagePromptTemplate(prompt=PromptTemplate(input_variables=['input'], template='{input}')), MessagesPlaceholder(variable_name='agent_scratchpad')])"
      ]
     },
     "execution_count": 112,
     "metadata": {},
     "output_type": "execute_result"
    }
   ],
   "source": [
    "prompt"
   ]
  },
  {
   "cell_type": "code",
   "execution_count": 113,
   "metadata": {},
   "outputs": [],
   "source": [
    "llm = ChatOpenAI(model=\"gpt-3.5-turbo-1106\", temperature=0, streaming=True)\n",
    "agent = create_openai_tools_agent(\n",
    "    llm=llm, tools=tools, prompt=prompt)\n",
    "agent_executor = AgentExecutor.from_agent_and_tools(\n",
    "    agent=agent, tools=tools, verbose=True, memory=memory, #input_variables=['agent_scratchpad', 'chat_history', 'input'], agent_executor_kwargs={\"memory\": memory}\n",
    ")"
   ]
  },
  {
   "cell_type": "code",
   "execution_count": 114,
   "metadata": {},
   "outputs": [
    {
     "name": "stdout",
     "output_type": "stream",
     "text": [
      "\n",
      "\n",
      "\u001b[1m> Entering new AgentExecutor chain...\u001b[0m\n"
     ]
    },
    {
     "name": "stdout",
     "output_type": "stream",
     "text": [
      "{'actions': [OpenAIToolAgentAction(tool='Python_REPL', tool_input=\"import requests\\n\\n# Get weather for San Francisco\\nsf_weather = requests.get('http://api.openweathermap.org/data/2.5/weather?q=San%20Francisco&appid=YOUR_API_KEY')\\nprint(sf_weather.json())\", log=\"\\nInvoking: `Python_REPL` with `import requests\\n\\n# Get weather for San Francisco\\nsf_weather = requests.get('http://api.openweathermap.org/data/2.5/weather?q=San%20Francisco&appid=YOUR_API_KEY')\\nprint(sf_weather.json())`\\n\\n\\n\", message_log=[AIMessage(content='', additional_kwargs={'tool_calls': [{'index': 0, 'id': 'call_9eHvkpg3guQDZcwc2BwO9tat', 'function': {'arguments': '{\"__arg1\": \"import requests\\\\n\\\\n# Get weather for San Francisco\\\\nsf_weather = requests.get(\\'http://api.openweathermap.org/data/2.5/weather?q=San%20Francisco&appid=YOUR_API_KEY\\')\\\\nprint(sf_weather.json())\"}', 'name': 'Python_REPL'}, 'type': 'function'}, {'index': 1, 'id': 'call_lwr7KRUtxxgJbk2UNRCe4XHQ', 'function': {'arguments': '{\"__arg1\": \"import requests\\\\n\\\\n# Get weather for Los Angeles\\\\nla_weather = requests.get(\\'http://api.openweathermap.org/data/2.5/weather?q=Los%20Angeles&appid=YOUR_API_KEY\\')\\\\nprint(la_weather.json())\"}', 'name': 'Python_REPL'}, 'type': 'function'}]})], tool_call_id='call_9eHvkpg3guQDZcwc2BwO9tat')], 'messages': [AIMessage(content='', additional_kwargs={'tool_calls': [{'index': 0, 'id': 'call_9eHvkpg3guQDZcwc2BwO9tat', 'function': {'arguments': '{\"__arg1\": \"import requests\\\\n\\\\n# Get weather for San Francisco\\\\nsf_weather = requests.get(\\'http://api.openweathermap.org/data/2.5/weather?q=San%20Francisco&appid=YOUR_API_KEY\\')\\\\nprint(sf_weather.json())\"}', 'name': 'Python_REPL'}, 'type': 'function'}, {'index': 1, 'id': 'call_lwr7KRUtxxgJbk2UNRCe4XHQ', 'function': {'arguments': '{\"__arg1\": \"import requests\\\\n\\\\n# Get weather for Los Angeles\\\\nla_weather = requests.get(\\'http://api.openweathermap.org/data/2.5/weather?q=Los%20Angeles&appid=YOUR_API_KEY\\')\\\\nprint(la_weather.json())\"}', 'name': 'Python_REPL'}, 'type': 'function'}]})]}\n",
      "------\n",
      "{'actions': [OpenAIToolAgentAction(tool='Python_REPL', tool_input=\"import requests\\n\\n# Get weather for Los Angeles\\nla_weather = requests.get('http://api.openweathermap.org/data/2.5/weather?q=Los%20Angeles&appid=YOUR_API_KEY')\\nprint(la_weather.json())\", log=\"\\nInvoking: `Python_REPL` with `import requests\\n\\n# Get weather for Los Angeles\\nla_weather = requests.get('http://api.openweathermap.org/data/2.5/weather?q=Los%20Angeles&appid=YOUR_API_KEY')\\nprint(la_weather.json())`\\n\\n\\n\", message_log=[AIMessage(content='', additional_kwargs={'tool_calls': [{'index': 0, 'id': 'call_9eHvkpg3guQDZcwc2BwO9tat', 'function': {'arguments': '{\"__arg1\": \"import requests\\\\n\\\\n# Get weather for San Francisco\\\\nsf_weather = requests.get(\\'http://api.openweathermap.org/data/2.5/weather?q=San%20Francisco&appid=YOUR_API_KEY\\')\\\\nprint(sf_weather.json())\"}', 'name': 'Python_REPL'}, 'type': 'function'}, {'index': 1, 'id': 'call_lwr7KRUtxxgJbk2UNRCe4XHQ', 'function': {'arguments': '{\"__arg1\": \"import requests\\\\n\\\\n# Get weather for Los Angeles\\\\nla_weather = requests.get(\\'http://api.openweathermap.org/data/2.5/weather?q=Los%20Angeles&appid=YOUR_API_KEY\\')\\\\nprint(la_weather.json())\"}', 'name': 'Python_REPL'}, 'type': 'function'}]})], tool_call_id='call_lwr7KRUtxxgJbk2UNRCe4XHQ')], 'messages': [AIMessage(content='', additional_kwargs={'tool_calls': [{'index': 0, 'id': 'call_9eHvkpg3guQDZcwc2BwO9tat', 'function': {'arguments': '{\"__arg1\": \"import requests\\\\n\\\\n# Get weather for San Francisco\\\\nsf_weather = requests.get(\\'http://api.openweathermap.org/data/2.5/weather?q=San%20Francisco&appid=YOUR_API_KEY\\')\\\\nprint(sf_weather.json())\"}', 'name': 'Python_REPL'}, 'type': 'function'}, {'index': 1, 'id': 'call_lwr7KRUtxxgJbk2UNRCe4XHQ', 'function': {'arguments': '{\"__arg1\": \"import requests\\\\n\\\\n# Get weather for Los Angeles\\\\nla_weather = requests.get(\\'http://api.openweathermap.org/data/2.5/weather?q=Los%20Angeles&appid=YOUR_API_KEY\\')\\\\nprint(la_weather.json())\"}', 'name': 'Python_REPL'}, 'type': 'function'}]})]}\n",
      "------\n",
      "\u001b[32;1m\u001b[1;3m\n",
      "Invoking: `Python_REPL` with `import requests\n",
      "\n",
      "# Get weather for San Francisco\n",
      "sf_weather = requests.get('http://api.openweathermap.org/data/2.5/weather?q=San%20Francisco&appid=YOUR_API_KEY')\n",
      "print(sf_weather.json())`\n",
      "\n",
      "\n",
      "\u001b[0m\u001b[36;1m\u001b[1;3m{'cod': 401, 'message': 'Invalid API key. Please see https://openweathermap.org/faq#error401 for more info.'}\n",
      "\u001b[0m{'steps': [AgentStep(action=OpenAIToolAgentAction(tool='Python_REPL', tool_input=\"import requests\\n\\n# Get weather for San Francisco\\nsf_weather = requests.get('http://api.openweathermap.org/data/2.5/weather?q=San%20Francisco&appid=YOUR_API_KEY')\\nprint(sf_weather.json())\", log=\"\\nInvoking: `Python_REPL` with `import requests\\n\\n# Get weather for San Francisco\\nsf_weather = requests.get('http://api.openweathermap.org/data/2.5/weather?q=San%20Francisco&appid=YOUR_API_KEY')\\nprint(sf_weather.json())`\\n\\n\\n\", message_log=[AIMessage(content='', additional_kwargs={'tool_calls': [{'index': 0, 'id': 'call_9eHvkpg3guQDZcwc2BwO9tat', 'function': {'arguments': '{\"__arg1\": \"import requests\\\\n\\\\n# Get weather for San Francisco\\\\nsf_weather = requests.get(\\'http://api.openweathermap.org/data/2.5/weather?q=San%20Francisco&appid=YOUR_API_KEY\\')\\\\nprint(sf_weather.json())\"}', 'name': 'Python_REPL'}, 'type': 'function'}, {'index': 1, 'id': 'call_lwr7KRUtxxgJbk2UNRCe4XHQ', 'function': {'arguments': '{\"__arg1\": \"import requests\\\\n\\\\n# Get weather for Los Angeles\\\\nla_weather = requests.get(\\'http://api.openweathermap.org/data/2.5/weather?q=Los%20Angeles&appid=YOUR_API_KEY\\')\\\\nprint(la_weather.json())\"}', 'name': 'Python_REPL'}, 'type': 'function'}]})], tool_call_id='call_9eHvkpg3guQDZcwc2BwO9tat'), observation=\"{'cod': 401, 'message': 'Invalid API key. Please see https://openweathermap.org/faq#error401 for more info.'}\\n\")], 'messages': [FunctionMessage(content=\"{'cod': 401, 'message': 'Invalid API key. Please see https://openweathermap.org/faq#error401 for more info.'}\\n\", name='Python_REPL')]}\n",
      "------\n",
      "\u001b[32;1m\u001b[1;3m\n",
      "Invoking: `Python_REPL` with `import requests\n",
      "\n",
      "# Get weather for Los Angeles\n",
      "la_weather = requests.get('http://api.openweathermap.org/data/2.5/weather?q=Los%20Angeles&appid=YOUR_API_KEY')\n",
      "print(la_weather.json())`\n",
      "\n",
      "\n",
      "\u001b[0m\u001b[36;1m\u001b[1;3m{'cod': 401, 'message': 'Invalid API key. Please see https://openweathermap.org/faq#error401 for more info.'}\n",
      "\u001b[0m{'steps': [AgentStep(action=OpenAIToolAgentAction(tool='Python_REPL', tool_input=\"import requests\\n\\n# Get weather for Los Angeles\\nla_weather = requests.get('http://api.openweathermap.org/data/2.5/weather?q=Los%20Angeles&appid=YOUR_API_KEY')\\nprint(la_weather.json())\", log=\"\\nInvoking: `Python_REPL` with `import requests\\n\\n# Get weather for Los Angeles\\nla_weather = requests.get('http://api.openweathermap.org/data/2.5/weather?q=Los%20Angeles&appid=YOUR_API_KEY')\\nprint(la_weather.json())`\\n\\n\\n\", message_log=[AIMessage(content='', additional_kwargs={'tool_calls': [{'index': 0, 'id': 'call_9eHvkpg3guQDZcwc2BwO9tat', 'function': {'arguments': '{\"__arg1\": \"import requests\\\\n\\\\n# Get weather for San Francisco\\\\nsf_weather = requests.get(\\'http://api.openweathermap.org/data/2.5/weather?q=San%20Francisco&appid=YOUR_API_KEY\\')\\\\nprint(sf_weather.json())\"}', 'name': 'Python_REPL'}, 'type': 'function'}, {'index': 1, 'id': 'call_lwr7KRUtxxgJbk2UNRCe4XHQ', 'function': {'arguments': '{\"__arg1\": \"import requests\\\\n\\\\n# Get weather for Los Angeles\\\\nla_weather = requests.get(\\'http://api.openweathermap.org/data/2.5/weather?q=Los%20Angeles&appid=YOUR_API_KEY\\')\\\\nprint(la_weather.json())\"}', 'name': 'Python_REPL'}, 'type': 'function'}]})], tool_call_id='call_lwr7KRUtxxgJbk2UNRCe4XHQ'), observation=\"{'cod': 401, 'message': 'Invalid API key. Please see https://openweathermap.org/faq#error401 for more info.'}\\n\")], 'messages': [FunctionMessage(content=\"{'cod': 401, 'message': 'Invalid API key. Please see https://openweathermap.org/faq#error401 for more info.'}\\n\", name='Python_REPL')]}\n",
      "------\n",
      "\u001b[32;1m\u001b[1;3mIt seems that I need to provide a valid API key to retrieve the weather information. I will need to obtain a valid API key in order to proceed with fetching the weather data for San Francisco and Los Angeles.\u001b[0m\n",
      "\n",
      "\u001b[1m> Finished chain.\u001b[0m\n",
      "{'output': 'It seems that I need to provide a valid API key to retrieve the weather information. I will need to obtain a valid API key in order to proceed with fetching the weather data for San Francisco and Los Angeles.', 'messages': [AIMessage(content='It seems that I need to provide a valid API key to retrieve the weather information. I will need to obtain a valid API key in order to proceed with fetching the weather data for San Francisco and Los Angeles.')]}\n",
      "------\n"
     ]
    }
   ],
   "source": [
    "for chunk in agent_executor.stream({\"input\": \"what is the weather in SF and then LA\"}):\n",
    "    print(chunk)\n",
    "    print(\"------\")"
   ]
  },
  {
   "cell_type": "code",
   "execution_count": 115,
   "metadata": {},
   "outputs": [
    {
     "name": "stdout",
     "output_type": "stream",
     "text": [
      "\n",
      "\n",
      "\u001b[1m> Entering new AgentExecutor chain...\u001b[0m\n",
      "\u001b[32;1m\u001b[1;3m\n",
      "Invoking: `Python_REPL` with `2 + 2`\n",
      "\n",
      "\n",
      "\u001b[0m\u001b[36;1m\u001b[1;3m\u001b[0m\u001b[32;1m\u001b[1;3mThe result of 2 + 2 is 4.\u001b[0m\n",
      "\n",
      "\u001b[1m> Finished chain.\u001b[0m\n"
     ]
    },
    {
     "data": {
      "text/plain": [
       "{'input': 'What is 2 + 2?',\n",
       " 'chat_history': [HumanMessage(content='what is the weather in SF and then LA'),\n",
       "  AIMessage(content='It seems that I need to provide a valid API key to retrieve the weather information. I will need to obtain a valid API key in order to proceed with fetching the weather data for San Francisco and Los Angeles.')],\n",
       " 'output': 'The result of 2 + 2 is 4.'}"
      ]
     },
     "execution_count": 115,
     "metadata": {},
     "output_type": "execute_result"
    }
   ],
   "source": [
    "agent_executor.invoke({'input': \"What is 2 + 2?\", 'chat_history': []})"
   ]
  },
  {
   "cell_type": "code",
   "execution_count": 116,
   "metadata": {},
   "outputs": [
    {
     "data": {
      "text/plain": [
       "ConversationBufferWindowMemory(chat_memory=ChatMessageHistory(messages=[HumanMessage(content='what is the weather in SF and then LA'), AIMessage(content='It seems that I need to provide a valid API key to retrieve the weather information. I will need to obtain a valid API key in order to proceed with fetching the weather data for San Francisco and Los Angeles.'), HumanMessage(content='What is 2 + 2?'), AIMessage(content='The result of 2 + 2 is 4.')]), output_key='output', input_key='input', return_messages=True, memory_key='chat_history', k=6)"
      ]
     },
     "execution_count": 116,
     "metadata": {},
     "output_type": "execute_result"
    }
   ],
   "source": [
    "memory"
   ]
  },
  {
   "cell_type": "code",
   "execution_count": 117,
   "metadata": {},
   "outputs": [
    {
     "name": "stdout",
     "output_type": "stream",
     "text": [
      "\n",
      "\n",
      "\u001b[1m> Entering new AgentExecutor chain...\u001b[0m\n"
     ]
    },
    {
     "name": "stdout",
     "output_type": "stream",
     "text": [
      "\u001b[32;1m\u001b[1;3m\n",
      "Invoking: `Python_REPL` with `2 * 2`\n",
      "\n",
      "\n",
      "\u001b[0m\u001b[36;1m\u001b[1;3m\u001b[0m\u001b[32;1m\u001b[1;3mThe double of 4 is 8.\u001b[0m\n",
      "\n",
      "\u001b[1m> Finished chain.\u001b[0m\n"
     ]
    },
    {
     "data": {
      "text/plain": [
       "{'input': 'What is the double of that?',\n",
       " 'chat_history': [HumanMessage(content='what is the weather in SF and then LA'),\n",
       "  AIMessage(content='It seems that I need to provide a valid API key to retrieve the weather information. I will need to obtain a valid API key in order to proceed with fetching the weather data for San Francisco and Los Angeles.'),\n",
       "  HumanMessage(content='What is 2 + 2?'),\n",
       "  AIMessage(content='The result of 2 + 2 is 4.')],\n",
       " 'output': 'The double of 4 is 8.'}"
      ]
     },
     "execution_count": 117,
     "metadata": {},
     "output_type": "execute_result"
    }
   ],
   "source": [
    "agent_executor.invoke({'input': \"What is the double of that?\", 'chat_history': []})"
   ]
  }
 ],
 "metadata": {
  "kernelspec": {
   "display_name": "langchain-env",
   "language": "python",
   "name": "python3"
  },
  "language_info": {
   "codemirror_mode": {
    "name": "ipython",
    "version": 3
   },
   "file_extension": ".py",
   "mimetype": "text/x-python",
   "name": "python",
   "nbconvert_exporter": "python",
   "pygments_lexer": "ipython3",
   "version": "3.11.6"
  }
 },
 "nbformat": 4,
 "nbformat_minor": 2
}
