{
 "cells": [
  {
   "cell_type": "code",
   "execution_count": 3,
   "metadata": {},
   "outputs": [
    {
     "data": {
      "text/plain": [
       "{'properties': []}"
      ]
     },
     "execution_count": 3,
     "metadata": {},
     "output_type": "execute_result"
    }
   ],
   "source": [
    "import json\n",
    "from typing import Dict, Any\n",
    "from langchain.tools import BaseTool\n",
    "from pydantic import BaseModel, Field\n",
    "from typing import Type\n",
    "import requests\n",
    "from pydantic import BaseModel, Field\n",
    "import os\n",
    "import httpx\n",
    "\n",
    "\n",
    "async def get_properties():\n",
    "    url = 'http://localhost:9000/collections/public.5001elveg2.0l'\n",
    "    try:\n",
    "        async with httpx.AsyncClient() as client:\n",
    "            res = await client.get(url)\n",
    "            res.raise_for_status()\n",
    "            geojson_response = res.json()\n",
    "            properties = \n",
    "            for feature in geojson_response.get('features', []):\n",
    "                properties.update(feature.get('properties', {}).keys())\n",
    "\n",
    "            return {'properties': list(properties)}\n",
    "    except httpx.HTTPStatusError as e:\n",
    "        return f\"Error response {e.response.status_code} while requesting {e.request.url!r}.\"\n",
    "    \n",
    "await get_properties()"
   ]
  },
  {
   "cell_type": "code",
   "execution_count": 4,
   "metadata": {},
   "outputs": [],
   "source": [
    "class GetOGCAPIFeaturesPropertiesInput(BaseModel):\n",
    "    \"\"\"Input for GetOGCAPIFeaturesPropertiesTool.\"\"\"\n",
    "    collection_url: str = Field(\n",
    "        ..., description=\"The URL for the collection items, i.e., http://{BASE_URL}/collections/{collection_id}\")\n",
    "    cql: str = Field(..., description=(\"CQL (common query language) to be used for filtering like:\\n\"\n",
    "                                       \"'http://{BASE_URL}/collections/{collection_id}/items?filter=< cql goes here >\"))\n",
    "\n",
    "\n",
    "class GetOGCAPIFeaturesPropertiesTool(BaseTool):\n",
    "    \"\"\"Tool\"\"\"\n",
    "\n",
    "    name: str = \"ogc_api_features_collection_properties\"\n",
    "    args_schema: Type[BaseModel] = GetOGCAPIFeaturesPropertiesInput\n",
    "    description: str = (\n",
    "        \"Use this tool to retrieve all properties of features from an OGC API Features collection.\\n\"\n",
    "        \"Use CQL (Common Query Language) to filter the returned features.\\n\"\n",
    "        \"The properties will be returned as a list.\"\n",
    "    )\n",
    "\n",
    "    def _run(self, collection_url: str, cql: str, *args: Any, **kwargs: Any) -> Any:\n",
    "        url = f'{collection_url}/items?filter={cql}'\n",
    "        try:\n",
    "            geojson_response = requests.get(url).json()\n",
    "            properties = set()\n",
    "            for feature in geojson_response.get('features', []):\n",
    "                properties.update(feature.get('properties', {}).keys())\n",
    "\n",
    "            return {'properties': list(properties)}\n",
    "        except requests.RequestException as e:\n",
    "            return {'error': str(e)}\n",
    "\n",
    "    async def _arun(self, collection_url: str, cql: str, *args: Any, **kwargs: Any) -> Any:\n",
    "        url = f'{collection_url}/items?filter={cql}&limit=5000'\n",
    "        try:\n",
    "            async with httpx.AsyncClient() as client:\n",
    "                res = await client.get(url)\n",
    "                res.raise_for_status()\n",
    "                geojson_response = res.json()\n",
    "                properties = set()\n",
    "                for feature in geojson_response.get('features', []):\n",
    "                    properties.update(feature.get('properties', {}).keys())\n",
    "\n",
    "                return {'properties': list(properties)}\n",
    "        except httpx.HTTPStatusError as e:\n",
    "            return f\"Error response {e.response.status_code} while requesting {e.request.url!r}.\""
   ]
  },
  {
   "cell_type": "code",
   "execution_count": 39,
   "metadata": {},
   "outputs": [
    {
     "data": {
      "text/plain": [
       "set()"
      ]
     },
     "execution_count": 39,
     "metadata": {},
     "output_type": "execute_result"
    }
   ],
   "source": [
    "GetOGCAPIFeaturesPropertiesTool"
   ]
  },
  {
   "cell_type": "code",
   "execution_count": 41,
   "metadata": {},
   "outputs": [
    {
     "data": {
      "text/plain": [
       "['ogc_api_features_collection_properties']"
      ]
     },
     "execution_count": 41,
     "metadata": {},
     "output_type": "execute_result"
    }
   ],
   "source": [
    "from typing import Sequence\n",
    "\n",
    "agent_tools = [GetOGCAPIFeaturesPropertiesTool()]\n",
    "\n",
    "uninvoked_tools = [GetOGCAPIFeaturesPropertiesTool]\n",
    "\n",
    "def get_tool_names(tools: list[BaseTool]):\n",
    "    overlapping_tools = filter(lambda t: type(t).__name__ in [\n",
    "                           uit.__name__ for uit in uninvoked_tools], agent_tools)\n",
    "    return list(map(lambda t: t.name, overlapping_tools))\n",
    "\n",
    "\n",
    "get_tool_names(uninvoked_tools)"
   ]
  }
 ],
 "metadata": {
  "kernelspec": {
   "display_name": "langchain-env",
   "language": "python",
   "name": "python3"
  },
  "language_info": {
   "codemirror_mode": {
    "name": "ipython",
    "version": 3
   },
   "file_extension": ".py",
   "mimetype": "text/x-python",
   "name": "python",
   "nbconvert_exporter": "python",
   "pygments_lexer": "ipython3",
   "version": "3.11.6"
  }
 },
 "nbformat": 4,
 "nbformat_minor": 2
}
