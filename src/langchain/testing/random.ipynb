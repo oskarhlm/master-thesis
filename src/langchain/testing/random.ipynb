{
 "cells": [
  {
   "cell_type": "code",
   "execution_count": 4,
   "metadata": {},
   "outputs": [
    {
     "data": {
      "text/plain": [
       "[1, 2, 3, 4]"
      ]
     },
     "execution_count": 4,
     "metadata": {},
     "output_type": "execute_result"
    }
   ],
   "source": [
    "a = [66, 666, 6666]\n",
    "a = None\n",
    "\n",
    "b = [1, 2, *(a or []), 3, 4]\n",
    "\n",
    "b"
   ]
  },
  {
   "cell_type": "code",
   "execution_count": 6,
   "metadata": {},
   "outputs": [],
   "source": [
    "from typing import List\n",
    "\n",
    "from langchain.chains.ernie_functions import create_structured_output_chain\n",
    "from langchain.prompts import ChatPromptTemplate\n",
    "from langchain_core.messages import BaseMessage\n",
    "from langchain_core.prompts import ChatPromptTemplate\n",
    "from langchain.pydantic_v1 import BaseModel, Field\n",
    "from langchain_openai import ChatOpenAI\n",
    "from langchain_core.prompts import ChatPromptTemplate, MessagesPlaceholder, HumanMessagePromptTemplate, AIMessagePromptTemplate\n",
    "from langchain_core.messages import AIMessage, SystemMessage\n",
    "\n",
    "system_message = (\n",
    "    'You are a helpful GIS agent/consultant.\\n'\n",
    "    'Table names should be surrounded in double quotes.\\n'\n",
    "    'DO NOT waste time presenting schemas and example rows to the user.\\n'\n",
    ")\n",
    "\n",
    "class AISuffix(BaseModel):\n",
    "    ai_suffix: str = Field(\n",
    "        ..., description=\"The next thought of the AI agent, meant to help guide it solve the problem at hand\")\n",
    "\n",
    "\n",
    "def select_ai_suffix_message(chat_history: List[BaseMessage], user_query: str):\n",
    "    available_ai_suffixes = [\n",
    "        (\n",
    "            \"I should look at the tables in the database to see what I can query.\\n\"\n",
    "            \"Then I should query the schema of the most relevant tables, before doing an SQL query to answer the user's request.\\n\"\n",
    "            \"If no relevant data is found in the database, I should use my background knowledge to give an approximate answer.\\n\"\n",
    "        ),\n",
    "        ['']\n",
    "    ]\n",
    "\n",
    "    llm = ChatOpenAI()\n",
    "    prompt = ChatPromptTemplate.from_template(\n",
    "        [\n",
    "            (\n",
    "                'You are a supervisor for a language model.\\n'\n",
    "                'Based on a list of messages between a human user and an AI agent, '\n",
    "                'you will help decide a strategy for the AI agent by selecting its next \"thought\".\\n'\n",
    "                'You will select between different strategies that are provided to you. '\n",
    "                'If none of these fit the conversation, set the AI thought to an empty string (\"\").\\n\\n'\n",
    "                'Here is the system message for the AI agent:\\n\\n\"\"\"{system_message}\"\"\"'\n",
    "                'Here is the conversation up to this point:\\n\\n{chat_history}\\n\\n'\n",
    "                'Here here are the available ai_suffixes for you to choose from:\\n\\n{available_ai_suffixes}'\n",
    "            )\n",
    "        ]\n",
    "    )\n",
    "    prompt.format(chat_history=chat_history,\n",
    "                  available_ai_suffixes=available_ai_suffixes)\n",
    "\n",
    "    chain = create_structured_output_chain(AISuffix, llm, prompt)\n",
    "    return chain.invoke({})"
   ]
  },
  {
   "cell_type": "code",
   "execution_count": 78,
   "metadata": {},
   "outputs": [],
   "source": [
    "from langchain_core.messages import AIMessage, SystemMessage\n",
    "from langchain_openai import ChatOpenAI\n",
    "from langchain_core.prompts import ChatPromptTemplate, MessagesPlaceholder, HumanMessagePromptTemplate, AIMessagePromptTemplate\n",
    "from langchain.agents import create_openai_tools_agent, AgentExecutor\n",
    "from langchain_community.agent_toolkits import SQLDatabaseToolkit\n",
    "from langchain.sql_database import SQLDatabase\n",
    "\n",
    "llm = ChatOpenAI(model=\"gpt-3.5-turbo-0125\", temperature=0, streaming=True)\n",
    "\n",
    "system_message = (\n",
    "    'You are a helpful GIS agent/consultant.\\n'\n",
    "    'Table names should be surrounded in double quotes.\\n'\n",
    "    'DO NOT waste time presenting schemas and example rows to the user.\\n'\n",
    ")\n",
    "\n",
    "\n",
    "prompt = ChatPromptTemplate.from_messages(\n",
    "    [\n",
    "        SystemMessage(content=(\n",
    "            'You are a helpful GIS agent/consultant.\\n'\n",
    "            'Table names should be surrounded in double quotes.\\n'\n",
    "            'DO NOT waste time presenting schemas and example rows to the user.\\n'\n",
    "        )),\n",
    "        MessagesPlaceholder(variable_name='chat_memory'),\n",
    "        HumanMessagePromptTemplate.from_template(\"{input}\"),\n",
    "        AIMessagePromptTemplate.from_template('{ai_suffix}', input_variables=['ai_suffix']),\n",
    "        MessagesPlaceholder(variable_name=\"agent_scratchpad\"),\n",
    "    ]\n",
    ")\n",
    "\n",
    "tools = []\n",
    "\n",
    "agent = create_openai_tools_agent(llm, tools, prompt)\n",
    "\n",
    "agent_executor = AgentExecutor(\n",
    "    agent=agent,\n",
    "    tools=tools,\n",
    "    verbose=True,\n",
    ")"
   ]
  },
  {
   "cell_type": "code",
   "execution_count": 112,
   "metadata": {},
   "outputs": [],
   "source": [
    "if not 1:\n",
    "    print('hei')"
   ]
  },
  {
   "cell_type": "code",
   "execution_count": 86,
   "metadata": {},
   "outputs": [
    {
     "data": {
      "text/plain": [
       "[{'content': 'You are a helpful GIS agent/consultant.\\nTable names should be surrounded in double quotes.\\nDO NOT waste time presenting schemas and example rows to the user.\\n',\n",
       "  'additional_kwargs': {},\n",
       "  'type': 'system'},\n",
       " {'variable_name': 'chat_memory', 'optional': False},\n",
       " {'prompt': {'name': None,\n",
       "   'input_variables': ['input'],\n",
       "   'input_types': {},\n",
       "   'output_parser': None,\n",
       "   'partial_variables': {},\n",
       "   'template': '{input}',\n",
       "   'template_format': 'f-string',\n",
       "   'validate_template': False,\n",
       "   '_type': 'prompt'},\n",
       "  'additional_kwargs': {}},\n",
       " {'prompt': {'name': None,\n",
       "   'input_variables': ['ai_suffix'],\n",
       "   'input_types': {},\n",
       "   'output_parser': None,\n",
       "   'partial_variables': {},\n",
       "   'template': '{ai_suffix}',\n",
       "   'template_format': 'f-string',\n",
       "   'validate_template': False,\n",
       "   '_type': 'prompt'},\n",
       "  'additional_kwargs': {}},\n",
       " {'variable_name': 'agent_scratchpad', 'optional': False}]"
      ]
     },
     "execution_count": 86,
     "metadata": {},
     "output_type": "execute_result"
    }
   ],
   "source": [
    "messages = agent.get_prompts()[0].messages\n",
    "[m.dict() for m in messages]"
   ]
  },
  {
   "cell_type": "code",
   "execution_count": 110,
   "metadata": {},
   "outputs": [
    {
     "name": "stdout",
     "output_type": "stream",
     "text": [
      "You are a helpful GIS agent/consultant.\n",
      "Table names should be surrounded in double quotes.\n",
      "DO NOT waste time presenting schemas and example rows to the user.\n",
      "\n"
     ]
    }
   ],
   "source": [
    "# agent.get_prompts()\n",
    "messages = agent_executor.agent.dict()['runnable']['middle'][0]['messages']\n",
    "if messages[0]['type'] == 'system': \n",
    "    print(messages[0]['content'])\n",
    "# agent_executor."
   ]
  },
  {
   "cell_type": "code",
   "execution_count": 71,
   "metadata": {},
   "outputs": [
    {
     "data": {
      "text/plain": [
       "{'system_message': 'You are a helpful GIS agent/consultant that has access to a couple of geospatial datasets in a PostGIS database.\\nTable names should be surrounded in double quotes.\\nDO NOT waste time presenting schemas and example rows to the user.\\n',\n",
       " 'chat_history': [{'content': 'hi',\n",
       "   'additional_kwargs': {},\n",
       "   'type': 'human',\n",
       "   'example': False},\n",
       "  {'content': 'Hello! How can I assist you today?',\n",
       "   'additional_kwargs': {},\n",
       "   'type': 'ai',\n",
       "   'example': False},\n",
       "  {'content': 'what tables do you have?',\n",
       "   'additional_kwargs': {},\n",
       "   'type': 'human',\n",
       "   'example': False},\n",
       "  {'content': 'The tables in the database are:\\n1. \"5001_25832_ar50_gml\"\\n2. \"5001_strategisk_stoykartlegging_dogn_25832f\"\\n3. \"5001elveg2.0l\"\\n4. \"Basisdata_5001_Trondheim_25832_MatrikkelenAdresse_GML\"\\n5. \"Basisdata_5001_Trondheim_25832_MatrikkelenBygning_GML\"\\n6. \"KartlagteFriluftslivsomr_5001_trondheim_25832_GML\"\\n7. \"Kulturminner_5001_Trondheim_25832_Fredabygninger_GML\"\\n8. \"Samfunnssikkerhet_5001_Trondheim_25832_Flomsoner_GML\"\\n9. \"Samfunnssikkerhet_5001_Trondheim_25832_Kvikkleire_GML\"\\n10. \"layer\"\\n11. \"spatial_ref_sys\"\\n12. \"topology\"\\n\\nHow can I assist you further with this information?',\n",
       "   'additional_kwargs': {},\n",
       "   'type': 'ai',\n",
       "   'example': False},\n",
       "  {'content': 'Hva er det gamle navnet på Oslo?',\n",
       "   'additional_kwargs': {},\n",
       "   'type': 'human',\n",
       "   'example': False}],\n",
       " 'available_ai_suffixes': [\"I should look at the tables in the database to see what I can query.\\nThen I should query the schema of the most relevant tables, before doing an SQL query to answer the user's request.\",\n",
       "  'I should use my background knowledge to give an approximate answer.'],\n",
       " 'function': AISuffix(ai_suffix='I should use my background knowledge to give an approximate answer.')}"
      ]
     },
     "execution_count": 71,
     "metadata": {},
     "output_type": "execute_result"
    }
   ],
   "source": [
    "available_ai_suffixes = [\n",
    "    (\n",
    "        \"I should look at the tables in the database to see what I can query.\\n\"\n",
    "        \"Then I should query the schema of the most relevant tables, before doing an SQL query to answer the user's request.\"\n",
    "    ),\n",
    "    \"I should use my background knowledge to give an approximate answer.\",\n",
    "    # \"I should ask for clarification from the user.\"\n",
    "]\n",
    "\n",
    "system_message = (\n",
    "    'You are a helpful GIS agent/consultant that has access to a couple of geospatial datasets in a PostGIS database.\\n'\n",
    "    'Table names should be surrounded in double quotes.\\n'\n",
    "    'DO NOT waste time presenting schemas and example rows to the user.\\n'\n",
    ")\n",
    "\n",
    "llm = ChatOpenAI()\n",
    "prompt = ChatPromptTemplate.from_messages(\n",
    "    [\n",
    "        (\n",
    "            'system',\n",
    "            (\n",
    "                'You are a supervisor for a language model.\\n'\n",
    "                'Based on a list of messages between a human user and an AI agent, '\n",
    "                'you will help decide a strategy for the AI agent by selecting its next \"thought\".\\n'\n",
    "                'You will select between different strategies that are provided to you. '\n",
    "                'If none of these fit the conversation, set the AI thought to an empty string (\"\").\\n\\n'\n",
    "                'Here is the system message for the AI agent:\\n\\n\"\"\"{system_message}\"\"\"\\n\\n'\n",
    "                'Here is the conversation up to this point:\\n\\n{chat_history}\\n\\n'\n",
    "                'Here here are the available ai_suffixes for you to choose from:\\n\\n{available_ai_suffixes}\\n\\n'\n",
    "                'You are allowed to make minor adjustments to the ai_suffix you select.'\n",
    "            )\n",
    "        )\n",
    "    ]\n",
    ")\n",
    "# formatted_prompt = prompt.format(...)\n",
    "\n",
    "\n",
    "class AISuffix(BaseModel):\n",
    "    ai_suffix: str = Field(\n",
    "        ..., description=\"The next thought of the AI agent, meant to help guide it solve the problem at hand\")\n",
    "\n",
    "\n",
    "chain = create_structured_output_chain(AISuffix, llm, prompt)\n",
    "res = chain.invoke({\n",
    "    'system_message': system_message,\n",
    "    'chat_history': [\n",
    "        {\n",
    "            \"content\": \"hi\",\n",
    "            \"additional_kwargs\": {\n",
    "\n",
    "            },\n",
    "            \"type\": \"human\",\n",
    "            \"example\": False\n",
    "        },\n",
    "        {\n",
    "            \"content\": \"Hello! How can I assist you today?\",\n",
    "            \"additional_kwargs\": {\n",
    "\n",
    "            },\n",
    "            \"type\": \"ai\",\n",
    "            \"example\": False\n",
    "        },\n",
    "        {\n",
    "            \"content\": \"what tables do you have?\",\n",
    "            \"additional_kwargs\": {\n",
    "\n",
    "            },\n",
    "            \"type\": \"human\",\n",
    "            \"example\": False\n",
    "        },\n",
    "        {\n",
    "            \"content\": \"The tables in the database are:\\n1. \\\"5001_25832_ar50_gml\\\"\\n2. \\\"5001_strategisk_stoykartlegging_dogn_25832f\\\"\\n3. \\\"5001elveg2.0l\\\"\\n4. \\\"Basisdata_5001_Trondheim_25832_MatrikkelenAdresse_GML\\\"\\n5. \\\"Basisdata_5001_Trondheim_25832_MatrikkelenBygning_GML\\\"\\n6. \\\"KartlagteFriluftslivsomr_5001_trondheim_25832_GML\\\"\\n7. \\\"Kulturminner_5001_Trondheim_25832_Fredabygninger_GML\\\"\\n8. \\\"Samfunnssikkerhet_5001_Trondheim_25832_Flomsoner_GML\\\"\\n9. \\\"Samfunnssikkerhet_5001_Trondheim_25832_Kvikkleire_GML\\\"\\n10. \\\"layer\\\"\\n11. \\\"spatial_ref_sys\\\"\\n12. \\\"topology\\\"\\n\\nHow can I assist you further with this information?\",\n",
    "            \"additional_kwargs\": {\n",
    "\n",
    "            },\n",
    "            \"type\": \"ai\",\n",
    "            \"example\": False\n",
    "        },\n",
    "        {\n",
    "            \"content\": \"Hva er det gamle navnet på Oslo?\",\n",
    "            \"additional_kwargs\": {},\n",
    "            \"type\": \"human\",\n",
    "            \"example\": False\n",
    "        }\n",
    "    ],\n",
    "    'available_ai_suffixes': available_ai_suffixes\n",
    "})\n",
    "\n",
    "res"
   ]
  },
  {
   "cell_type": "code",
   "execution_count": 73,
   "metadata": {},
   "outputs": [
    {
     "data": {
      "text/plain": [
       "'I should use my background knowledge to give an approximate answer.'"
      ]
     },
     "execution_count": 73,
     "metadata": {},
     "output_type": "execute_result"
    }
   ],
   "source": [
    "res['function'].ai_suffix"
   ]
  },
  {
   "cell_type": "code",
   "execution_count": 12,
   "metadata": {},
   "outputs": [
    {
     "data": {
      "text/plain": [
       "[{'content': 'You are a helpful GIS agent/consultant.\\nTable names should be surrounded in double quotes.\\nDO NOT waste time presenting schemas and example rows to the user.\\n',\n",
       "  'additional_kwargs': {},\n",
       "  'type': 'system'},\n",
       " {'variable_name': 'chat_history', 'optional': False},\n",
       " {'prompt': {'name': None,\n",
       "   'input_variables': ['input'],\n",
       "   'input_types': {},\n",
       "   'output_parser': None,\n",
       "   'partial_variables': {},\n",
       "   'template': '{input}',\n",
       "   'template_format': 'f-string',\n",
       "   'validate_template': False,\n",
       "   '_type': 'prompt'},\n",
       "  'additional_kwargs': {}}]"
      ]
     },
     "execution_count": 12,
     "metadata": {},
     "output_type": "execute_result"
    }
   ],
   "source": [
    "msgs = [\n",
    "    SystemMessage(content=(\n",
    "        'You are a helpful GIS agent/consultant.\\n'\n",
    "        'Table names should be surrounded in double quotes.\\n'\n",
    "        'DO NOT waste time presenting schemas and example rows to the user.\\n'\n",
    "    )),\n",
    "    MessagesPlaceholder(variable_name='chat_history'),\n",
    "    HumanMessagePromptTemplate.from_template(\"{input}\"),\n",
    "]\n",
    "\n",
    "[m.dict() for m in msgs]"
   ]
  }
 ],
 "metadata": {
  "kernelspec": {
   "display_name": "langchain-env",
   "language": "python",
   "name": "python3"
  },
  "language_info": {
   "codemirror_mode": {
    "name": "ipython",
    "version": 3
   },
   "file_extension": ".py",
   "mimetype": "text/x-python",
   "name": "python",
   "nbconvert_exporter": "python",
   "pygments_lexer": "ipython3",
   "version": "3.11.6"
  }
 },
 "nbformat": 4,
 "nbformat_minor": 2
}
