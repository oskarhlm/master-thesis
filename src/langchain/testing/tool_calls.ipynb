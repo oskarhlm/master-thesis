{
 "cells": [
  {
   "cell_type": "code",
   "execution_count": 13,
   "metadata": {},
   "outputs": [
    {
     "name": "stdout",
     "output_type": "stream",
     "text": [
      "{'hei': 'på deg'}\n",
      "30\n",
      "None\n"
     ]
    }
   ],
   "source": [
    "import json\n",
    "\n",
    "class ToolCallsHandler:\n",
    "    file_path = '/home/dev/master-thesis/src/langchain/tool_calls.json'\n",
    "\n",
    "    @staticmethod\n",
    "    def tool_calls():\n",
    "        try:\n",
    "            with open(ToolCallsHandler.file_path, 'r') as file:\n",
    "                return json.load(file)\n",
    "        except FileNotFoundError:\n",
    "            return {}\n",
    "\n",
    "    @staticmethod\n",
    "    def _save_data(data):\n",
    "        with open(ToolCallsHandler.file_path, 'w') as file:\n",
    "            json.dump(data, file, indent=4)\n",
    "\n",
    "    @staticmethod\n",
    "    def initialize_file():\n",
    "        \"\"\"Write an empty object {} to the file\"\"\"\n",
    "        with open(ToolCallsHandler.file_path, 'w') as file:\n",
    "            json.dump({}, file)\n",
    "\n",
    "    @staticmethod\n",
    "    def add_key(key, value):\n",
    "        data = ToolCallsHandler.tool_calls()\n",
    "        data[key] = value\n",
    "        ToolCallsHandler._save_data(data)\n",
    "\n",
    "    @staticmethod\n",
    "    def read_key(key):\n",
    "        data = ToolCallsHandler.tool_calls()\n",
    "        return data.get(key)\n",
    "\n",
    "# Example usage\n",
    "ToolCallsHandler.initialize_file()\n",
    "ToolCallsHandler.add_key('name', {'hei': 'på deg'})\n",
    "ToolCallsHandler.add_key('age', 30)\n",
    "\n",
    "print(ToolCallsHandler.read_key('name'))  # Output: John\n",
    "print(ToolCallsHandler.read_key('age'))   # Output: 30\n",
    "print(ToolCallsHandler.read_key('city'))  # Output: None (if key doesn't exist)\n"
   ]
  },
  {
   "cell_type": "code",
   "execution_count": 16,
   "metadata": {},
   "outputs": [
    {
     "name": "stdout",
     "output_type": "stream",
     "text": [
      "{'table_names': '5001elveg2.0l'}\n"
     ]
    }
   ],
   "source": [
    "import json\n",
    "\n",
    "# The string representation of the dictionary\n",
    "string_data = \"{'table_names': '5001elveg2.0l'}\"\n",
    "\n",
    "# Replace single quotes with double quotes to make it valid JSON\n",
    "string_data = string_data.replace(\"'\", '\"')\n",
    "\n",
    "# Parse the string into a JSON object\n",
    "json_data = dict(json.loads(string_data))\n",
    "\n",
    "print(json_data)"
   ]
  },
  {
   "cell_type": "code",
   "execution_count": 12,
   "metadata": {},
   "outputs": [
    {
     "data": {
      "text/plain": [
       "{'name': 'John', 'age': 30}"
      ]
     },
     "execution_count": 12,
     "metadata": {},
     "output_type": "execute_result"
    }
   ],
   "source": [
    "ToolCallsHandler.tool_calls()"
   ]
  }
 ],
 "metadata": {
  "kernelspec": {
   "display_name": "langchain-env",
   "language": "python",
   "name": "python3"
  },
  "language_info": {
   "codemirror_mode": {
    "name": "ipython",
    "version": 3
   },
   "file_extension": ".py",
   "mimetype": "text/x-python",
   "name": "python",
   "nbconvert_exporter": "python",
   "pygments_lexer": "ipython3",
   "version": "3.11.6"
  }
 },
 "nbformat": 4,
 "nbformat_minor": 2
}
