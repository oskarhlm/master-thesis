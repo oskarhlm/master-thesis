{
 "cells": [
  {
   "cell_type": "code",
   "execution_count": 19,
   "metadata": {},
   "outputs": [],
   "source": [
    "from langchain_community.tools.shell import ShellTool\n",
    "\n",
    "shell_tool = ShellTool()"
   ]
  },
  {
   "cell_type": "code",
   "execution_count": 20,
   "metadata": {},
   "outputs": [
    {
     "name": "stdout",
     "output_type": "stream",
     "text": [
      "api_calls.ipynb\n",
      "openapi_test.ipynb\n",
      "poem.txt\n",
      "tool_agent.ipynb\n",
      "\n"
     ]
    },
    {
     "name": "stderr",
     "output_type": "stream",
     "text": [
      "/home/dev/master-thesis/src/langchain/langchain-env/lib/python3.11/site-packages/langchain_community/tools/shell/tool.py:29: UserWarning: The shell tool has no safeguards by default. Use at your own risk.\n",
      "  warnings.warn(\n"
     ]
    }
   ],
   "source": [
    "print(shell_tool.run({'commands': ['ls']}))"
   ]
  },
  {
   "cell_type": "code",
   "execution_count": 38,
   "metadata": {},
   "outputs": [
    {
     "data": {
      "text/plain": [
       "{'lc': 1,\n",
       " 'type': 'constructor',\n",
       " 'id': ['langchain', 'prompts', 'chat', 'ChatPromptTemplate'],\n",
       " 'kwargs': {'input_variables': ['agent_scratchpad'],\n",
       "  'messages': [SystemMessage(content='You are a helpful GIS agent/consultant.'),\n",
       "   HumanMessage(content='{human_input}'),\n",
       "   MessagesPlaceholder(variable_name='agent_scratchpad')]}}"
      ]
     },
     "execution_count": 38,
     "metadata": {},
     "output_type": "execute_result"
    }
   ],
   "source": [
    "from langchain_core.prompts import ChatPromptTemplate, MessagesPlaceholder\n",
    "from langchain.schema import SystemMessage, HumanMessage\n",
    "from langchain.agents.output_parsers import OpenAIFunctionsAgentOutputParser\n",
    "from langchain.agents.format_scratchpad import format_to_openai_function_messages\n",
    "\n",
    "prompt = ChatPromptTemplate.from_messages(\n",
    "    [\n",
    "        SystemMessage(content='You are a helpful GIS agent/consultant.'),\n",
    "        HumanMessage(content='{human_input}'),\n",
    "        MessagesPlaceholder(variable_name='agent_scratchpad')\n",
    "    ]\n",
    ")\n",
    "\n",
    "prompt.to_json()"
   ]
  },
  {
   "cell_type": "code",
   "execution_count": 21,
   "metadata": {},
   "outputs": [
    {
     "name": "stdout",
     "output_type": "stream",
     "text": [
      "\n",
      "\n",
      "\u001b[1m> Entering new AgentExecutor chain...\u001b[0m\n",
      "\u001b[32;1m\u001b[1;3m\n",
      "Invoking: `terminal` with `{'commands': [\"echo 'The Road Not Taken' > poem.txt\", \"echo '' >> poem.txt\", \"echo 'Two roads diverged in a yellow wood,' >> poem.txt\", \"echo 'And sorry I could not travel both' >> poem.txt\", \"echo 'And be one traveler, long I stood' >> poem.txt\", \"echo 'And looked down one as far as I could' >> poem.txt\", \"echo 'To where it bent in the undergrowth;' >> poem.txt\", \"echo '' >> poem.txt\", \"echo 'Then took the other, as just as fair,' >> poem.txt\", \"echo 'And having perhaps the better claim,' >> poem.txt\", \"echo 'Because it was grassy and wanted wear;' >> poem.txt\", \"echo 'Though as for that the passing there' >> poem.txt\", \"echo 'Had worn them really about the same,' >> poem.txt\", \"echo '' >> poem.txt\", \"echo 'And both that morning equally lay' >> poem.txt\", \"echo 'In leaves no step had trodden black.' >> poem.txt\", \"echo '' >> poem.txt\", \"echo 'Oh, I kept the first for another day!' >> poem.txt\", \"echo 'Yet knowing how way leads on to way,' >> poem.txt\", \"echo 'I doubted if I should ever come back.' >> poem.txt\", \"echo '' >> poem.txt\", \"echo 'I shall be telling this with a sigh' >> poem.txt\", \"echo 'Somewhere ages and ages hence:' >> poem.txt\", \"echo 'Two roads diverged in a wood, and I—' >> poem.txt\", \"echo 'I took the one less traveled by,' >> poem.txt\", \"echo 'And that has made all the difference.' >> poem.txt\"]}`\n",
      "\n",
      "\n",
      "\u001b[0m\u001b[36;1m\u001b[1;3m\u001b[0m"
     ]
    },
    {
     "name": "stderr",
     "output_type": "stream",
     "text": [
      "/home/dev/master-thesis/src/langchain/langchain-env/lib/python3.11/site-packages/langchain_community/tools/shell/tool.py:29: UserWarning: The shell tool has no safeguards by default. Use at your own risk.\n",
      "  warnings.warn(\n"
     ]
    },
    {
     "name": "stdout",
     "output_type": "stream",
     "text": [
      "\u001b[32;1m\u001b[1;3mI have created a text file containing the poem \"The Road Not Taken.\" You can find the poem in the file named \"poem.txt.\"\u001b[0m\n",
      "\n",
      "\u001b[1m> Finished chain.\u001b[0m\n"
     ]
    },
    {
     "data": {
      "text/plain": [
       "{'input': 'Create a text file that contains a poem',\n",
       " 'output': 'I have created a text file containing the poem \"The Road Not Taken.\" You can find the poem in the file named \"poem.txt.\"'}"
      ]
     },
     "execution_count": 21,
     "metadata": {},
     "output_type": "execute_result"
    }
   ],
   "source": [
    "from langchain.agents import AgentExecutor, create_openai_tools_agent\n",
    "from langchain_openai import ChatOpenAI\n",
    "from dotenv import load_dotenv\n",
    "from langchain import hub\n",
    "\n",
    "load_dotenv('../../.env')\n",
    "\n",
    "llm = ChatOpenAI(model=\"gpt-3.5-turbo-1106\", temperature=0)\n",
    "\n",
    "tools = [shell_tool]\n",
    "\n",
    "agent = create_openai_tools_agent(\n",
    "    llm=llm,\n",
    "    tools=tools,\n",
    "    prompt=hub.pull(\"hwchase17/openai-tools-agent\")\n",
    ")\n",
    "\n",
    "agent_executor = AgentExecutor(agent=agent, tools=tools, verbose=True)\n",
    "\n",
    "agent_executor.invoke({'input': 'Create a text file that contains a poem'})"
   ]
  }
 ],
 "metadata": {
  "kernelspec": {
   "display_name": "langchain-env",
   "language": "python",
   "name": "python3"
  },
  "language_info": {
   "codemirror_mode": {
    "name": "ipython",
    "version": 3
   },
   "file_extension": ".py",
   "mimetype": "text/x-python",
   "name": "python",
   "nbconvert_exporter": "python",
   "pygments_lexer": "ipython3",
   "version": "3.11.6"
  }
 },
 "nbformat": 4,
 "nbformat_minor": 2
}
