{
 "cells": [
  {
   "cell_type": "code",
   "execution_count": 2,
   "metadata": {},
   "outputs": [
    {
     "name": "stdout",
     "output_type": "stream",
     "text": [
      "This GeoJSON FeatureCollection contains 4 features.\n",
      "It has properties: name, type.\n",
      "The geometry types include: Polygon, Point.\n",
      "\n"
     ]
    }
   ],
   "source": [
    "from typing import Dict, Any\n",
    "\n",
    "\n",
    "def describe_geojson_feature_collection(feature_collection: Dict[str, Any]) -> str:\n",
    "    num_features = len(feature_collection.get('features', []))\n",
    "    properties = set()\n",
    "    geometry_types = set()\n",
    "\n",
    "    for feature in feature_collection.get('features', []):\n",
    "        properties.update(feature.get('properties', {}).keys())\n",
    "        geometry_type = feature.get('geometry', {}).get('type')\n",
    "        if geometry_type:\n",
    "            geometry_types.add(geometry_type)\n",
    "\n",
    "    description = f\"This GeoJSON FeatureCollection contains {num_features} features.\\n\"\n",
    "    description += f\"It has properties: {', '.join(properties)}.\\n\"\n",
    "    description += f\"The geometry types include: {', '.join(geometry_types)}.\\n\"\n",
    "\n",
    "    return description\n",
    "\n",
    "\n",
    "# Example usage:\n",
    "geojson = {\n",
    "    \"type\": \"FeatureCollection\",\n",
    "    \"features\": [\n",
    "        {\n",
    "            \"type\": \"Feature\",\n",
    "            \"properties\": {\n",
    "                \"name\": \"Feature 1\",\n",
    "                \"type\": \"Point\"\n",
    "            },\n",
    "            \"geometry\": {\n",
    "                \"type\": \"Point\",\n",
    "                \"coordinates\": [0, 0]\n",
    "            }\n",
    "        },\n",
    "        {\n",
    "            \"type\": \"Feature\",\n",
    "            \"properties\": {\n",
    "                \"name\": \"Feature 2\",\n",
    "                \"type\": \"Polygon\"\n",
    "            },\n",
    "            \"geometry\": {\n",
    "                \"type\": \"Polygon\",\n",
    "                \"coordinates\": [[[0, 0], [1, 0], [1, 1], [0, 1], [0, 0]]]\n",
    "            }\n",
    "        },\n",
    "        {\n",
    "            \"type\": \"Feature\",\n",
    "            \"properties\": {\n",
    "                \"name\": \"Feature 2\",\n",
    "                \"type\": \"Polygon\"\n",
    "            },\n",
    "            \"geometry\": {\n",
    "                \"type\": \"Polygon\",\n",
    "                \"coordinates\": [[[0, 0], [1, 0], [1, 1], [0, 1], [0, 0]]]\n",
    "            }\n",
    "        },\n",
    "        {\n",
    "            \"type\": \"Feature\",\n",
    "            \"properties\": {\n",
    "                \"name\": \"Feature 2\",\n",
    "                \"type\": \"Polygon\"\n",
    "            },\n",
    "            \"geometry\": {\n",
    "                \"type\": \"Polygon\",\n",
    "                \"coordinates\": [[[0, 0], [1, 0], [1, 1], [0, 1], [0, 0]]]\n",
    "            }\n",
    "        }\n",
    "    ]\n",
    "}\n",
    "\n",
    "print(describe_geojson_feature_collection(geojson))"
   ]
  }
 ],
 "metadata": {
  "kernelspec": {
   "display_name": "langchain-env",
   "language": "python",
   "name": "python3"
  },
  "language_info": {
   "codemirror_mode": {
    "name": "ipython",
    "version": 3
   },
   "file_extension": ".py",
   "mimetype": "text/x-python",
   "name": "python",
   "nbconvert_exporter": "python",
   "pygments_lexer": "ipython3",
   "version": "3.11.6"
  }
 },
 "nbformat": 4,
 "nbformat_minor": 2
}
