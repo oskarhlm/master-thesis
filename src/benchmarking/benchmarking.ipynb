{
 "cells": [
  {
   "cell_type": "code",
   "execution_count": 92,
   "metadata": {},
   "outputs": [],
   "source": [
    "import pandas as pd\n",
    "import ast"
   ]
  },
  {
   "cell_type": "code",
   "execution_count": 98,
   "metadata": {},
   "outputs": [
    {
     "data": {
      "text/html": [
       "<div>\n",
       "<style scoped>\n",
       "    .dataframe tbody tr th:only-of-type {\n",
       "        vertical-align: middle;\n",
       "    }\n",
       "\n",
       "    .dataframe tbody tr th {\n",
       "        vertical-align: top;\n",
       "    }\n",
       "\n",
       "    .dataframe thead th {\n",
       "        text-align: right;\n",
       "    }\n",
       "</style>\n",
       "<table border=\"1\" class=\"dataframe\">\n",
       "  <thead>\n",
       "    <tr style=\"text-align: right;\">\n",
       "      <th></th>\n",
       "      <th>models</th>\n",
       "      <th>techniques</th>\n",
       "      <th>analysis_id</th>\n",
       "      <th>result</th>\n",
       "      <th>comment</th>\n",
       "    </tr>\n",
       "  </thead>\n",
       "  <tbody>\n",
       "    <tr>\n",
       "      <th>0</th>\n",
       "      <td>[gpt-4-1106-preview, gpt-3.5-turbo-1106]</td>\n",
       "      <td>[langchain, stac]</td>\n",
       "      <td>1</td>\n",
       "      <td>&lt;NA&gt;</td>\n",
       "      <td>Test to show the feasibility of using LLMs wit...</td>\n",
       "    </tr>\n",
       "    <tr>\n",
       "      <th>1</th>\n",
       "      <td>[gpt-4-1106-preview, gpt-3.5-turbo-1106]</td>\n",
       "      <td>[langchain, postgres]</td>\n",
       "      <td>2</td>\n",
       "      <td>&lt;NA&gt;</td>\n",
       "      <td>Test to show the feasibility of using LLMs wit...</td>\n",
       "    </tr>\n",
       "    <tr>\n",
       "      <th>2</th>\n",
       "      <td>[gpt-4-1106-preview, gpt-3.5-turbo-1106]</td>\n",
       "      <td>[langchain, files]</td>\n",
       "      <td>2</td>\n",
       "      <td>&lt;NA&gt;</td>\n",
       "      <td>Test to show the feasibility of using LLMs wit...</td>\n",
       "    </tr>\n",
       "    <tr>\n",
       "      <th>3</th>\n",
       "      <td>[gpt-4-1106-preview, gpt-3.5-turbo-1106]</td>\n",
       "      <td>[langchain, stac]</td>\n",
       "      <td>1</td>\n",
       "      <td>&lt;NA&gt;</td>\n",
       "      <td>NaN</td>\n",
       "    </tr>\n",
       "    <tr>\n",
       "      <th>4</th>\n",
       "      <td>[gpt-4-1106-preview, gpt-3.5-turbo-1106]</td>\n",
       "      <td>[langchain, postgres]</td>\n",
       "      <td>2</td>\n",
       "      <td>&lt;NA&gt;</td>\n",
       "      <td>NaN</td>\n",
       "    </tr>\n",
       "    <tr>\n",
       "      <th>5</th>\n",
       "      <td>[gpt-4-1106-preview, gpt-3.5-turbo-1106]</td>\n",
       "      <td>[langchain, files]</td>\n",
       "      <td>2</td>\n",
       "      <td>&lt;NA&gt;</td>\n",
       "      <td>NaN</td>\n",
       "    </tr>\n",
       "  </tbody>\n",
       "</table>\n",
       "</div>"
      ],
      "text/plain": [
       "                                     models             techniques  \\\n",
       "0  [gpt-4-1106-preview, gpt-3.5-turbo-1106]      [langchain, stac]   \n",
       "1  [gpt-4-1106-preview, gpt-3.5-turbo-1106]  [langchain, postgres]   \n",
       "2  [gpt-4-1106-preview, gpt-3.5-turbo-1106]     [langchain, files]   \n",
       "3  [gpt-4-1106-preview, gpt-3.5-turbo-1106]      [langchain, stac]   \n",
       "4  [gpt-4-1106-preview, gpt-3.5-turbo-1106]  [langchain, postgres]   \n",
       "5  [gpt-4-1106-preview, gpt-3.5-turbo-1106]     [langchain, files]   \n",
       "\n",
       "   analysis_id  result                                            comment  \n",
       "0            1    <NA>  Test to show the feasibility of using LLMs wit...  \n",
       "1            2    <NA>  Test to show the feasibility of using LLMs wit...  \n",
       "2            2    <NA>  Test to show the feasibility of using LLMs wit...  \n",
       "3            1    <NA>                                                NaN  \n",
       "4            2    <NA>                                                NaN  \n",
       "5            2    <NA>                                                NaN  "
      ]
     },
     "execution_count": 98,
     "metadata": {},
     "output_type": "execute_result"
    }
   ],
   "source": [
    "df = pd.read_excel('bench.xlsx').dropna(how='all')\n",
    "\n",
    "df['models'] = df['models'].apply(ast.literal_eval)\n",
    "df['techniques'] = df['techniques'].apply(ast.literal_eval)\n",
    "df['result'] = df['result'].astype('boolean')\n",
    "\n",
    "df"
   ]
  },
  {
   "cell_type": "code",
   "execution_count": 94,
   "metadata": {},
   "outputs": [
    {
     "name": "stdout",
     "output_type": "stream",
     "text": [
      "gpt-4-1106-preview\n",
      "gpt-3.5-turbo-1106\n"
     ]
    }
   ],
   "source": [
    "models = df.iloc[0]['models']\n",
    "for model in models: \n",
    "    print(model)"
   ]
  }
 ],
 "metadata": {
  "kernelspec": {
   "display_name": "benchmark-env",
   "language": "python",
   "name": "python3"
  },
  "language_info": {
   "codemirror_mode": {
    "name": "ipython",
    "version": 3
   },
   "file_extension": ".py",
   "mimetype": "text/x-python",
   "name": "python",
   "nbconvert_exporter": "python",
   "pygments_lexer": "ipython3",
   "version": "3.11.6"
  }
 },
 "nbformat": 4,
 "nbformat_minor": 2
}
