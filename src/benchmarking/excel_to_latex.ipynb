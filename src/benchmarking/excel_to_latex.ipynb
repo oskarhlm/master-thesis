{
 "cells": [
  {
   "cell_type": "code",
   "execution_count": 110,
   "metadata": {},
   "outputs": [],
   "source": [
    "import pandas as pd\n",
    "from pathlib import Path\n",
    "import re\n",
    "\n",
    "docs_path = Path('/home/dev/masters-thesis/documents')\n",
    "qna_path = docs_path / 'QnA_OSM.xlsx'\n",
    "latex_path = Path('/home/dev/masters-thesis/tex/generated')\n",
    "\n",
    "questions_df = pd.read_excel(qna_path, sheet_name='Questions').dropna(how='all')\n",
    "tests_df = pd.read_excel(qna_path, sheet_name='Tests').dropna(how='all')\n",
    "levels_df = pd.read_excel(qna_path, sheet_name='Prompt Levels').dropna(how='all')\n",
    "levels_tests_df = pd.read_excel(\n",
    "    qna_path, sheet_name='PL Tests').dropna(how='all')"
   ]
  },
  {
   "cell_type": "code",
   "execution_count": 111,
   "metadata": {},
   "outputs": [],
   "source": [
    "def post_processing_latex(latex_code: str):\n",
    "    latex_code = latex_code.replace('_', '\\\\_').replace('$', '\\\\$')\n",
    "    \n",
    "    parts = re.split(\n",
    "        r'(\\\\endfirsthead|\\\\endhead|\\\\endfoot|\\\\endlastfoot)', latex_code)\n",
    "\n",
    "    processed_parts = []\n",
    "    for part in parts:\n",
    "        if \"\\\\toprule\" in part:\n",
    "            split_middle = '\\n\\midrule\\n'\n",
    "            split_top = '\\\\toprule\\n'\n",
    "            top, mid = part.split(split_middle)\n",
    "            start, columns = top.split(split_top)\n",
    "            columns = re.sub('(\\w)+', '\\\\\\\\textbf{\\g<0>}', columns)\n",
    "            part = split_middle.join([split_top.join([start, columns]), mid])\n",
    "\n",
    "        processed_parts.append(part)\n",
    "\n",
    "    result = ''.join(processed_parts)\n",
    "    return result\n",
    "\n",
    "\n",
    "def save_latex(filename: str, content: str): \n",
    "    with open(latex_path / filename, 'w') as file: \n",
    "        file.write(content)"
   ]
  },
  {
   "cell_type": "markdown",
   "metadata": {},
   "source": [
    "## Questions"
   ]
  },
  {
   "cell_type": "code",
   "execution_count": 115,
   "metadata": {},
   "outputs": [],
   "source": [
    "latex_str = questions_df.to_latex(\n",
    "    index=False,\n",
    "    columns=['Query ID', 'Query', 'Correct Response'],\n",
    "    longtable=True,\n",
    "    column_format='p{4cm}p{4.5cm}p{4.5cm}',\n",
    "    label='tbl:questions-quantitative',\n",
    "    caption='Questions for quantitative tests'\n",
    ")\n",
    "\n",
    "post_processed_latex = post_processing_latex(latex_str)\n",
    "save_latex('questions.tex', post_processed_latex)"
   ]
  },
  {
   "cell_type": "markdown",
   "metadata": {},
   "source": [
    "## Test Results"
   ]
  },
  {
   "cell_type": "code",
   "execution_count": 113,
   "metadata": {},
   "outputs": [],
   "source": [
    "latex_str = tests_df.to_latex(\n",
    "    index=False,\n",
    "    columns=['Query ID', 'Agent Type', 'Outcome', 'Duration [s]', 'Tokens'],\n",
    "    longtable=True,\n",
    "    column_format='lp{1.8cm}p{1.8cm}p{1.8cm}p{1.8cm}p{1.8cm}',\n",
    "    float_format='{:.2f}'.format,\n",
    "    caption='Test results for quantitative tests',\n",
    "    label='tbl:test-results-quantitative'\n",
    ")\n",
    "\n",
    "post_processed_latex = post_processing_latex(latex_str)\n",
    "save_latex('quantatitive_tests.tex', post_processed_latex)"
   ]
  }
 ],
 "metadata": {
  "kernelspec": {
   "display_name": "benchmarking-env",
   "language": "python",
   "name": "python3"
  },
  "language_info": {
   "codemirror_mode": {
    "name": "ipython",
    "version": 3
   },
   "file_extension": ".py",
   "mimetype": "text/x-python",
   "name": "python",
   "nbconvert_exporter": "python",
   "pygments_lexer": "ipython3",
   "version": "3.11.6"
  }
 },
 "nbformat": 4,
 "nbformat_minor": 2
}
