{
 "cells": [
  {
   "cell_type": "code",
   "execution_count": 24,
   "metadata": {},
   "outputs": [],
   "source": [
    "import pandas as pd\n",
    "import matplotlib.pyplot as plt\n",
    "from pathlib import Path\n",
    "\n",
    "plt.style.use('_mpl-gallery-nogrid')\n",
    "\n",
    "figs_path = Path('/home/dev/masters-thesis/tex/figs')\n",
    "\n",
    "path = '/home/dev/masters-thesis/documents/QnA_OSM.xlsx'\n",
    "\n",
    "questions_df = pd.read_excel(path, sheet_name='Questions').dropna(how='all')\n",
    "tests_df = pd.read_excel(path, sheet_name='Tests').dropna(how='all')\n",
    "levels_df = pd.read_excel(path, sheet_name='Prompt Levels').dropna(how='all')\n",
    "levels_tests_df = pd.read_excel(path, sheet_name='PL Tests').dropna(how='all')\n",
    "\n",
    "tests_df = tests_df.merge(\n",
    "    questions_df[['Query ID', 'Difficulty']], on='Query ID', how='left')\n",
    "levels_tests_df = levels_tests_df.merge(levels_df, on='Query ID', how='left')"
   ]
  },
  {
   "cell_type": "code",
   "execution_count": 25,
   "metadata": {},
   "outputs": [
    {
     "data": {
      "text/html": [
       "<div>\n",
       "<style scoped>\n",
       "    .dataframe tbody tr th:only-of-type {\n",
       "        vertical-align: middle;\n",
       "    }\n",
       "\n",
       "    .dataframe tbody tr th {\n",
       "        vertical-align: top;\n",
       "    }\n",
       "\n",
       "    .dataframe thead th {\n",
       "        text-align: right;\n",
       "    }\n",
       "</style>\n",
       "<table border=\"1\" class=\"dataframe\">\n",
       "  <thead>\n",
       "    <tr style=\"text-align: right;\">\n",
       "      <th></th>\n",
       "      <th>Query ID</th>\n",
       "      <th>Agent Type</th>\n",
       "      <th>Outcome</th>\n",
       "      <th>Duration [s]</th>\n",
       "      <th>Tokens</th>\n",
       "      <th>Cost [$]</th>\n",
       "      <th>LangSmith Traces</th>\n",
       "      <th>Comments</th>\n",
       "      <th>Model</th>\n",
       "      <th>Difficulty</th>\n",
       "    </tr>\n",
       "  </thead>\n",
       "  <tbody>\n",
       "    <tr>\n",
       "      <th>0</th>\n",
       "      <td>aker_brygge_national</td>\n",
       "      <td>oaf</td>\n",
       "      <td>partial success</td>\n",
       "      <td>87.16</td>\n",
       "      <td>3347</td>\n",
       "      <td>0.03465</td>\n",
       "      <td>f1b6c899-da9b-456a-90b1-94e1613316fa</td>\n",
       "      <td>/home/dev/master-thesis/tex/figs/aker_national...</td>\n",
       "      <td>gpt-4-turbo-2024-04-09</td>\n",
       "      <td>1</td>\n",
       "    </tr>\n",
       "    <tr>\n",
       "      <th>1</th>\n",
       "      <td>aker_brygge_national</td>\n",
       "      <td>oaf</td>\n",
       "      <td>partial success</td>\n",
       "      <td>97.85</td>\n",
       "      <td>3042</td>\n",
       "      <td>0.03102</td>\n",
       "      <td>98c4beff-bd48-4eb4-b172-495d3d0ae5d2</td>\n",
       "      <td>NaN</td>\n",
       "      <td>gpt-4-turbo-2024-04-09</td>\n",
       "      <td>1</td>\n",
       "    </tr>\n",
       "    <tr>\n",
       "      <th>2</th>\n",
       "      <td>aker_brygge_national</td>\n",
       "      <td>oaf</td>\n",
       "      <td>partial success</td>\n",
       "      <td>70.36</td>\n",
       "      <td>4563</td>\n",
       "      <td>0.05095</td>\n",
       "      <td>400c1a15-a5fe-4ca5-a1e2-fb2bedbe807c</td>\n",
       "      <td>NaN</td>\n",
       "      <td>gpt-4-turbo-2024-04-09</td>\n",
       "      <td>1</td>\n",
       "    </tr>\n",
       "    <tr>\n",
       "      <th>3</th>\n",
       "      <td>aker_brygge_national</td>\n",
       "      <td>python</td>\n",
       "      <td>partial success</td>\n",
       "      <td>68.10</td>\n",
       "      <td>4736</td>\n",
       "      <td>0.05222</td>\n",
       "      <td>55dcebae-1890-4ef1-8d81-6eead5705730</td>\n",
       "      <td>/home/dev/master-thesis/tex/figs/aker_national...</td>\n",
       "      <td>gpt-4-turbo-2024-04-09</td>\n",
       "      <td>1</td>\n",
       "    </tr>\n",
       "    <tr>\n",
       "      <th>4</th>\n",
       "      <td>aker_brygge_national</td>\n",
       "      <td>python</td>\n",
       "      <td>partial success</td>\n",
       "      <td>49.48</td>\n",
       "      <td>2192</td>\n",
       "      <td>0.02226</td>\n",
       "      <td>f6ad6dfc-6a2f-4178-bc73-44d8f8bfb9c9</td>\n",
       "      <td>NaN</td>\n",
       "      <td>gpt-4-turbo-2024-04-09</td>\n",
       "      <td>1</td>\n",
       "    </tr>\n",
       "  </tbody>\n",
       "</table>\n",
       "</div>"
      ],
      "text/plain": [
       "               Query ID Agent Type          Outcome  Duration [s]  Tokens  \\\n",
       "0  aker_brygge_national        oaf  partial success         87.16    3347   \n",
       "1  aker_brygge_national        oaf  partial success         97.85    3042   \n",
       "2  aker_brygge_national        oaf  partial success         70.36    4563   \n",
       "3  aker_brygge_national     python  partial success         68.10    4736   \n",
       "4  aker_brygge_national     python  partial success         49.48    2192   \n",
       "\n",
       "   Cost [$]                      LangSmith Traces  \\\n",
       "0   0.03465  f1b6c899-da9b-456a-90b1-94e1613316fa   \n",
       "1   0.03102  98c4beff-bd48-4eb4-b172-495d3d0ae5d2   \n",
       "2   0.05095  400c1a15-a5fe-4ca5-a1e2-fb2bedbe807c   \n",
       "3   0.05222  55dcebae-1890-4ef1-8d81-6eead5705730   \n",
       "4   0.02226  f6ad6dfc-6a2f-4178-bc73-44d8f8bfb9c9   \n",
       "\n",
       "                                            Comments                   Model  \\\n",
       "0  /home/dev/master-thesis/tex/figs/aker_national...  gpt-4-turbo-2024-04-09   \n",
       "1                                                NaN  gpt-4-turbo-2024-04-09   \n",
       "2                                                NaN  gpt-4-turbo-2024-04-09   \n",
       "3  /home/dev/master-thesis/tex/figs/aker_national...  gpt-4-turbo-2024-04-09   \n",
       "4                                                NaN  gpt-4-turbo-2024-04-09   \n",
       "\n",
       "   Difficulty  \n",
       "0           1  \n",
       "1           1  \n",
       "2           1  \n",
       "3           1  \n",
       "4           1  "
      ]
     },
     "execution_count": 25,
     "metadata": {},
     "output_type": "execute_result"
    }
   ],
   "source": [
    "tests_df.head()"
   ]
  },
  {
   "cell_type": "code",
   "execution_count": 45,
   "metadata": {},
   "outputs": [
    {
     "data": {
      "text/plain": [
       "10.687544996400286"
      ]
     },
     "execution_count": 45,
     "metadata": {},
     "output_type": "execute_result"
    }
   ],
   "source": [
    "tests_df['Cost [$]'].mean() / (tests_df['Tokens'].mean() / 10**6)"
   ]
  },
  {
   "cell_type": "code",
   "execution_count": 42,
   "metadata": {},
   "outputs": [
    {
     "name": "stdout",
     "output_type": "stream",
     "text": [
      "0       186.12500\n",
      "1       186.12500\n",
      "2       186.12500\n",
      "3      1052.18125\n",
      "4      1052.18125\n",
      "          ...    \n",
      "103    1052.18125\n",
      "104    1052.18125\n",
      "105     151.19000\n",
      "106     151.19000\n",
      "107     151.19000\n",
      "Name: Duration [s], Length: 108, dtype: float64\n",
      "Agent Type\n",
      "oaf       67.410\n",
      "python    81.580\n",
      "sql       47.475\n",
      "Name: Duration [s], dtype: float64\n"
     ]
    }
   ],
   "source": [
    "import pandas as pd\n",
    "\n",
    "# Assuming tests_df is your DataFrame and it has been loaded already\n",
    "# Calculate Q1, Q3, and IQR for each group\n",
    "Q1 = tests_df.groupby('Agent Type')['Duration [s]'].transform(\n",
    "    lambda x: x.quantile(0.25))\n",
    "Q3 = tests_df.groupby('Agent Type')['Duration [s]'].transform(\n",
    "    lambda x: x.quantile(0.75))\n",
    "IQR = Q3 - Q1\n",
    "\n",
    "# Define lower and upper bounds to identify outliers\n",
    "lower_bound = Q1 - 1.5 * IQR\n",
    "upper_bound = Q3 + 1.5 * IQR\n",
    "\n",
    "print(upper_bound)\n",
    "\n",
    "# Filter out the outliers directly using the bounds calculated for each group\n",
    "filtered_df = tests_df[(tests_df['Duration [s]'] >= lower_bound) & (\n",
    "    tests_df['Duration [s]'] <= upper_bound)]\n",
    "\n",
    "# Calculate the third quartile (Q3) of the filtered data\n",
    "non_outlier_Q3 = filtered_df.groupby(\n",
    "    'Agent Type')['Duration [s]'].quantile(.5)\n",
    "\n",
    "# Print or return the result\n",
    "print(non_outlier_Q3)"
   ]
  },
  {
   "cell_type": "code",
   "execution_count": null,
   "metadata": {},
   "outputs": [],
   "source": [
    "custom_mapping = {\n",
    "    'success': 2,\n",
    "    'partial success': 1,\n",
    "    'failure': 0\n",
    "}\n",
    "\n",
    "tests_df['Outcome_encoded'] = tests_df['Outcome'].map(custom_mapping)\n",
    "\n",
    "correlation_matrix = tests_df[['Outcome_encoded',\n",
    "                               'Tokens', 'Duration [s]', 'Cost [$]']].corr()"
   ]
  },
  {
   "cell_type": "code",
   "execution_count": null,
   "metadata": {},
   "outputs": [
    {
     "name": "stdout",
     "output_type": "stream",
     "text": [
      "Agent Type\n",
      "oaf       0.551567\n",
      "python    0.336788\n",
      "sql       0.336788\n",
      "Name: Outcome_encoded, dtype: float64\n"
     ]
    },
    {
     "data": {
      "text/plain": [
       "0.4083807200603269"
      ]
     },
     "execution_count": 49,
     "metadata": {},
     "output_type": "execute_result"
    }
   ],
   "source": [
    "import pandas as pd\n",
    "\n",
    "stddev_by_group = tests_df.groupby(['Query ID', 'Agent Type'])[\n",
    "    'Outcome_encoded'].std()\n",
    "mean_stddev_by_agent_type = stddev_by_group.groupby('Agent Type').mean()\n",
    "\n",
    "\n",
    "print(mean_stddev_by_agent_type)\n",
    "\n",
    "mean_stddev_by_agent_type.mean()"
   ]
  }
 ],
 "metadata": {
  "kernelspec": {
   "display_name": "benchmark-env",
   "language": "python",
   "name": "python3"
  },
  "language_info": {
   "codemirror_mode": {
    "name": "ipython",
    "version": 3
   },
   "file_extension": ".py",
   "mimetype": "text/x-python",
   "name": "python",
   "nbconvert_exporter": "python",
   "pygments_lexer": "ipython3",
   "version": "3.11.6"
  }
 },
 "nbformat": 4,
 "nbformat_minor": 2
}
