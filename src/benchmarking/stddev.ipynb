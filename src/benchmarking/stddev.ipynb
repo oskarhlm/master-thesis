{
 "cells": [
  {
   "cell_type": "code",
   "execution_count": 3,
   "metadata": {},
   "outputs": [],
   "source": [
    "import pandas as pd\n",
    "import matplotlib.pyplot as plt\n",
    "from pathlib import Path\n",
    "\n",
    "plt.style.use('_mpl-gallery-nogrid')\n",
    "\n",
    "figs_path = Path('/home/dev/masters-thesis/tex/figs')\n",
    "\n",
    "path = '/home/dev/masters-thesis/documents/QnA_OSM.xlsx'\n",
    "\n",
    "questions_df = pd.read_excel(path, sheet_name='Questions').dropna(how='all')\n",
    "tests_df = pd.read_excel(path, sheet_name='Tests').dropna(how='all')\n",
    "levels_df = pd.read_excel(path, sheet_name='Prompt Levels').dropna(how='all')\n",
    "levels_tests_df = pd.read_excel(path, sheet_name='PL Tests').dropna(how='all')"
   ]
  }
 ],
 "metadata": {
  "kernelspec": {
   "display_name": "benchmark-env",
   "language": "python",
   "name": "python3"
  },
  "language_info": {
   "codemirror_mode": {
    "name": "ipython",
    "version": 3
   },
   "file_extension": ".py",
   "mimetype": "text/x-python",
   "name": "python",
   "nbconvert_exporter": "python",
   "pygments_lexer": "ipython3",
   "version": "3.11.6"
  }
 },
 "nbformat": 4,
 "nbformat_minor": 2
}
